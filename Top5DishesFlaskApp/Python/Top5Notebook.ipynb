{
 "cells": [
  {
   "attachments": {},
   "cell_type": "markdown",
   "metadata": {},
   "source": [
    "# Top five recommender"
   ]
  },
  {
   "cell_type": "code",
   "execution_count": 2,
   "metadata": {},
   "outputs": [
    {
     "name": "stdout",
     "output_type": "stream",
     "text": [
      "Top five dishes:\n",
      "PARATHA : 502\n",
      "CHICKEN 65 : 400\n",
      "AAPPAM : 359\n",
      "AMBUR MUTTON BIRYANI : 331\n",
      "CHICKEN LOLLIPOP : 320\n"
     ]
    }
   ],
   "source": [
    "path = 'C:/CodeTest1/Venv1/SalesFeb2023/pringledatascience/pringledatascience/Recommender/Data.xlsx'\n",
    "import pandas as pd\n",
    "import matplotlib.pyplot as plt\n",
    "import seaborn as sns\n",
    "# # Read the Excel file\n",
    "df = pd.read_excel(path)\n",
    "\n",
    "\n",
    "# Count the number of occurrences of each dish and sort in descending order\n",
    "top_dishes = df['ItemName'].value_counts().sort_values(ascending=False)\n",
    "\n",
    "# Display the top 5 most popular dishes\n",
    "# Display the top 5 most popular dishes\n",
    "print(\"Top five dishes:\")\n",
    "for dish, count in top_dishes.head(5).items():\n",
    "    print(f\"{dish}: {count}\")"
   ]
  },
  {
   "cell_type": "code",
   "execution_count": 2,
   "metadata": {},
   "outputs": [],
   "source": [
    "from flask import Flask, render_template\n",
    "import pandas as pd\n",
    "\n",
    "app = Flask(__name__)\n",
    "\n",
    "@app.route('/top_five')\n",
    "def top_five():\n",
    "    path = 'C:/CodeTest1/Venv1/SalesFeb2023/pringledatascience/pringledatascience/Recommender/Data.xlsx'\n",
    "    \n",
    "    # Read the Excel file\n",
    "    df = pd.read_excel(path)\n",
    "\n",
    "    # Count the number of occurrences of each dish and sort in descending order\n",
    "    top_dishes = df['ItemName'].value_counts().sort_values(ascending=False)\n",
    "\n",
    "    # Get the top 5 most popular dishes as a list of tuples\n",
    "    top_five = list(top_dishes.head(5).items())\n",
    "\n",
    "    # Render a template with the top 5 dishes\n",
    "    return render_template('top_five.html', top_five=top_five)\n"
   ]
  },
  {
   "cell_type": "code",
   "execution_count": null,
   "metadata": {},
   "outputs": [],
   "source": []
  },
  {
   "cell_type": "markdown",
   "metadata": {},
   "source": []
  }
 ],
 "metadata": {
  "kernelspec": {
   "display_name": "Pringle1",
   "language": "python",
   "name": "python3"
  },
  "language_info": {
   "codemirror_mode": {
    "name": "ipython",
    "version": 3
   },
   "file_extension": ".py",
   "mimetype": "text/x-python",
   "name": "python",
   "nbconvert_exporter": "python",
   "pygments_lexer": "ipython3",
   "version": "3.10.11"
  },
  "orig_nbformat": 4
 },
 "nbformat": 4,
 "nbformat_minor": 2
}
