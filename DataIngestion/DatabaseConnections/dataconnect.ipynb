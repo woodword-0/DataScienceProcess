{
 "cells": [
  {
   "cell_type": "code",
   "execution_count": 1,
   "metadata": {},
   "outputs": [],
   "source": [
    "import urllib\n",
    "import sqlalchemy as sa\n",
    "import pandas as pd\n",
    "import pyodbc"
   ]
  },
  {
   "cell_type": "code",
   "execution_count": null,
   "metadata": {},
   "outputs": [],
   "source": []
  },
  {
   "attachments": {},
   "cell_type": "markdown",
   "metadata": {},
   "source": [
    "# PringleAPI"
   ]
  },
  {
   "cell_type": "code",
   "execution_count": 3,
   "metadata": {},
   "outputs": [],
   "source": [
    "#Creates appropriate engine for db query to pandas w/ windows authentication\n",
    "import urllib\n",
    "params = urllib.parse.quote_plus(\"DRIVER={SQL Server};\"\n",
    "                                 \"SERVER=PRINGLED0000031\\SQLEXPRESS;\"\n",
    "                                 \"DATABASE=PringleAPI;\"\n",
    "                                 \"UID=PringleAPI_User;\"\n",
    "                                 \"PWD=ErfQsv7s;\"\n",
    "                                 \"Trusted_Connection=yes\")\n",
    "\n",
    "engine = sa.create_engine(\"mssql+pyodbc:///?odbc_connect={}\".format(params))"
   ]
  },
  {
   "cell_type": "code",
   "execution_count": 3,
   "metadata": {},
   "outputs": [
    {
     "data": {
      "text/html": [
       "<div>\n",
       "<style scoped>\n",
       "    .dataframe tbody tr th:only-of-type {\n",
       "        vertical-align: middle;\n",
       "    }\n",
       "\n",
       "    .dataframe tbody tr th {\n",
       "        vertical-align: top;\n",
       "    }\n",
       "\n",
       "    .dataframe thead th {\n",
       "        text-align: right;\n",
       "    }\n",
       "</style>\n",
       "<table border=\"1\" class=\"dataframe\">\n",
       "  <thead>\n",
       "    <tr style=\"text-align: right;\">\n",
       "      <th></th>\n",
       "      <th>Id</th>\n",
       "      <th>ApiName</th>\n",
       "      <th>DateCreated</th>\n",
       "      <th>DateModified</th>\n",
       "      <th>CreatedBy</th>\n",
       "      <th>UpdatedBy</th>\n",
       "      <th>IsAdminNavigation</th>\n",
       "    </tr>\n",
       "  </thead>\n",
       "  <tbody>\n",
       "    <tr>\n",
       "      <th>0</th>\n",
       "      <td>1</td>\n",
       "      <td>Location</td>\n",
       "      <td>2013-11-08 23:39:00</td>\n",
       "      <td>None</td>\n",
       "      <td>-1</td>\n",
       "      <td>None</td>\n",
       "      <td>False</td>\n",
       "    </tr>\n",
       "    <tr>\n",
       "      <th>1</th>\n",
       "      <td>4</td>\n",
       "      <td>Digital Menu</td>\n",
       "      <td>2013-11-14 23:54:00</td>\n",
       "      <td>None</td>\n",
       "      <td>-1</td>\n",
       "      <td>None</td>\n",
       "      <td>True</td>\n",
       "    </tr>\n",
       "  </tbody>\n",
       "</table>\n",
       "</div>"
      ],
      "text/plain": [
       "   Id       ApiName         DateCreated DateModified  CreatedBy UpdatedBy  \\\n",
       "0   1      Location 2013-11-08 23:39:00         None         -1      None   \n",
       "1   4  Digital Menu 2013-11-14 23:54:00         None         -1      None   \n",
       "\n",
       "   IsAdminNavigation  \n",
       "0              False  \n",
       "1               True  "
      ]
     },
     "execution_count": 3,
     "metadata": {},
     "output_type": "execute_result"
    }
   ],
   "source": [
    "#CAll database to create dataframe\n",
    "from sqlalchemy import text as sql_text\n",
    "query = 'SELECT * FROM dbo.Api'\n",
    "df = pd.read_sql_query(con=engine.connect(),sql=sql_text(query))\n",
    "df.head(2)"
   ]
  },
  {
   "attachments": {},
   "cell_type": "markdown",
   "metadata": {},
   "source": [
    "# PringleAPIDataModel\n",
    "PringleAPIDataModel_User\n",
    "Dm6Nti6sUZhmO6lYwhw3Yyn3aiZQCFbF"
   ]
  },
  {
   "cell_type": "code",
   "execution_count": 59,
   "metadata": {},
   "outputs": [],
   "source": [
    "#Creates appropriate engine for db query to pandas w/ windows authentication\n",
    "import urllib\n",
    "params = urllib.parse.quote_plus(\"DRIVER={SQL Server};\"\n",
    "                                 \"SERVER=PRINGLED0000031\\SQLEXPRESS;\"\n",
    "                                 \"DATABASE=PringleAPIDataModel;\"\n",
    "                                 \"UID=PringleAPIDataModel_User;\"\n",
    "                                 \"PWD=Dm6Nti6sUZhmO6lYwhw3Yyn3aiZQCFbF;\"\n",
    "                                 \"Trusted_Connection=yes\")\n",
    "\n",
    "engine = sa.create_engine(\"mssql+pyodbc:///?odbc_connect={}\".format(params))"
   ]
  },
  {
   "cell_type": "code",
   "execution_count": 61,
   "metadata": {},
   "outputs": [
    {
     "data": {
      "text/plain": [
       "0     PringleAPI is a core database to the platform....\n",
       "1     PringleAssets database contains information re...\n",
       "2     PringleCRM database is a core database for acc...\n",
       "3     PringleDigitalMenu is a core database for supp...\n",
       "4     PringleForms is a database intended to support...\n",
       "5     PringleJobs is a database intended to support ...\n",
       "6     PringleLog is a database is used for platform ...\n",
       "7     PringleNews is a database intended to host the...\n",
       "8     PringlePages is a database used for Web Pages ...\n",
       "9     PringlePOSx  is a core database for supporting...\n",
       "10    PringlePromotions is a database used to suppor...\n",
       "11    PringleRating is a database used to capture th...\n",
       "12    PringleVariable is a core database that is use...\n",
       "13    PringleAPIDataModel is a database used to prov...\n",
       "Name: Description, dtype: object"
      ]
     },
     "execution_count": 61,
     "metadata": {},
     "output_type": "execute_result"
    }
   ],
   "source": [
    "#CAll database to create dataframe\n",
    "from sqlalchemy import text as sql_text\n",
    "query = 'SELECT * FROM dbo.Databases'\n",
    "df = pd.read_sql_query(con=engine.connect(),sql=sql_text(query))\n",
    "df.Description"
   ]
  },
  {
   "attachments": {},
   "cell_type": "markdown",
   "metadata": {},
   "source": [
    "# PringleAPILog\n",
    "PringleAPILog_User\n",
    "eRrLRnj8vBt6sEuZMejTmODoZBJ1PG3y"
   ]
  },
  {
   "cell_type": "code",
   "execution_count": null,
   "metadata": {},
   "outputs": [],
   "source": []
  },
  {
   "cell_type": "code",
   "execution_count": null,
   "metadata": {},
   "outputs": [],
   "source": []
  },
  {
   "attachments": {},
   "cell_type": "markdown",
   "metadata": {},
   "source": [
    "# PringleApps\n",
    "PringleApps_User\n",
    "kTFL5oc5toAdpUz6QKE4yZn62zbxFYQE"
   ]
  },
  {
   "cell_type": "code",
   "execution_count": null,
   "metadata": {},
   "outputs": [],
   "source": []
  },
  {
   "cell_type": "code",
   "execution_count": null,
   "metadata": {},
   "outputs": [],
   "source": []
  },
  {
   "attachments": {},
   "cell_type": "markdown",
   "metadata": {},
   "source": [
    "# PringleAssets\n",
    "PringleAssets_User\n",
    "XcCK4LMpJZpYURMrzze5Rwt1g03wSJnt"
   ]
  },
  {
   "cell_type": "code",
   "execution_count": null,
   "metadata": {},
   "outputs": [],
   "source": []
  },
  {
   "cell_type": "code",
   "execution_count": null,
   "metadata": {},
   "outputs": [],
   "source": []
  },
  {
   "attachments": {},
   "cell_type": "markdown",
   "metadata": {},
   "source": [
    "# PringleBlog\n",
    "PringleBlog_User\n",
    "68YR9kulr7l3XEnH2qszXc3GCNGQGYdu"
   ]
  },
  {
   "cell_type": "code",
   "execution_count": null,
   "metadata": {},
   "outputs": [],
   "source": []
  },
  {
   "cell_type": "code",
   "execution_count": null,
   "metadata": {},
   "outputs": [],
   "source": []
  },
  {
   "attachments": {},
   "cell_type": "markdown",
   "metadata": {},
   "source": [
    "# PringleComments\n",
    "PringleComments_User\n",
    "LgbuGVfCtwuKiELdowi4yWQgMtCdpA8O"
   ]
  },
  {
   "cell_type": "code",
   "execution_count": null,
   "metadata": {},
   "outputs": [],
   "source": []
  },
  {
   "cell_type": "code",
   "execution_count": null,
   "metadata": {},
   "outputs": [],
   "source": []
  },
  {
   "attachments": {},
   "cell_type": "markdown",
   "metadata": {},
   "source": [
    "# PringleCRM\n",
    "PringleCRM_User\n",
    "LKmZnXou"
   ]
  },
  {
   "cell_type": "code",
   "execution_count": null,
   "metadata": {},
   "outputs": [],
   "source": []
  },
  {
   "cell_type": "code",
   "execution_count": null,
   "metadata": {},
   "outputs": [],
   "source": []
  },
  {
   "cell_type": "markdown",
   "metadata": {},
   "source": []
  },
  {
   "attachments": {},
   "cell_type": "markdown",
   "metadata": {},
   "source": [
    "# PringleNews\n",
    "PringleNews_User\n",
    "fLhbvEYq"
   ]
  },
  {
   "cell_type": "code",
   "execution_count": 4,
   "metadata": {},
   "outputs": [],
   "source": [
    "#Creates appropriate engine for db query to pandas w/ windows authentication\n",
    "import urllib\n",
    "params = urllib.parse.quote_plus(\"DRIVER={SQL Server};\"\n",
    "                                 \"SERVER=PRINGLED0000031\\SQLEXPRESS;\"\n",
    "                                 \"DATABASE=PringleNews;\"\n",
    "                                 \"UID=PringleNews_User;\"\n",
    "                                 \"PWD=fLhbvEYq;\"\n",
    "                                 \"Trusted_Connection=yes\")\n",
    "\n",
    "engine = sa.create_engine(\"mssql+pyodbc:///?odbc_connect={}\".format(params))"
   ]
  },
  {
   "cell_type": "code",
   "execution_count": 7,
   "metadata": {},
   "outputs": [
    {
     "data": {
      "text/html": [
       "<div>\n",
       "<style scoped>\n",
       "    .dataframe tbody tr th:only-of-type {\n",
       "        vertical-align: middle;\n",
       "    }\n",
       "\n",
       "    .dataframe tbody tr th {\n",
       "        vertical-align: top;\n",
       "    }\n",
       "\n",
       "    .dataframe thead th {\n",
       "        text-align: right;\n",
       "    }\n",
       "</style>\n",
       "<table border=\"1\" class=\"dataframe\">\n",
       "  <thead>\n",
       "    <tr style=\"text-align: right;\">\n",
       "      <th></th>\n",
       "      <th>NewsID</th>\n",
       "      <th>Token</th>\n",
       "      <th>Headline</th>\n",
       "      <th>NewsContent</th>\n",
       "      <th>NewsDate</th>\n",
       "      <th>ExternalLink</th>\n",
       "      <th>DateCreated</th>\n",
       "      <th>DateModified</th>\n",
       "      <th>CreatedBy</th>\n",
       "      <th>UpdatedBy</th>\n",
       "    </tr>\n",
       "  </thead>\n",
       "  <tbody>\n",
       "    <tr>\n",
       "      <th>0</th>\n",
       "      <td>5</td>\n",
       "      <td>01DB27E3-82DB-4408-BB2C-3278EE9CD7E7</td>\n",
       "      <td>This is a test</td>\n",
       "      <td>None</td>\n",
       "      <td>2014-01-25</td>\n",
       "      <td>None</td>\n",
       "      <td>2014-01-25 01:05:00</td>\n",
       "      <td>NaT</td>\n",
       "      <td>2</td>\n",
       "      <td>NaN</td>\n",
       "    </tr>\n",
       "    <tr>\n",
       "      <th>1</th>\n",
       "      <td>1009</td>\n",
       "      <td>3359D596-BE19-4EE9-9451-E55E1140BD9F</td>\n",
       "      <td>Bawarchi in Plymouth Rocks !!!</td>\n",
       "      <td>&amp;lt;p&amp;gt;\\r\\n\\t&amp;lt;img alt=\"Minneapolis St. Pa...</td>\n",
       "      <td>2014-11-05</td>\n",
       "      <td>None</td>\n",
       "      <td>2014-11-05 22:58:00</td>\n",
       "      <td>2014-11-05 23:49:00</td>\n",
       "      <td>3</td>\n",
       "      <td>3.0</td>\n",
       "    </tr>\n",
       "    <tr>\n",
       "      <th>2</th>\n",
       "      <td>2009</td>\n",
       "      <td>D2916913-0855-4702-BF57-2793A87E12AD</td>\n",
       "      <td>Test</td>\n",
       "      <td>None</td>\n",
       "      <td>2015-05-01</td>\n",
       "      <td>None</td>\n",
       "      <td>2015-05-02 22:11:00</td>\n",
       "      <td>NaT</td>\n",
       "      <td>1</td>\n",
       "      <td>NaN</td>\n",
       "    </tr>\n",
       "    <tr>\n",
       "      <th>3</th>\n",
       "      <td>2010</td>\n",
       "      <td>D2916913-0855-4702-BF57-2793A87E12AD</td>\n",
       "      <td>test</td>\n",
       "      <td>&lt;p&gt;\\r\\n\\tThis is a test&lt;/p&gt;&lt;hr/&gt;\\r\\n</td>\n",
       "      <td>2015-05-19</td>\n",
       "      <td>None</td>\n",
       "      <td>2015-05-03 00:11:00</td>\n",
       "      <td>2015-05-03 00:11:00</td>\n",
       "      <td>1</td>\n",
       "      <td>1.0</td>\n",
       "    </tr>\n",
       "    <tr>\n",
       "      <th>4</th>\n",
       "      <td>2011</td>\n",
       "      <td>D2916913-0855-4702-BF57-2793A87E12AD</td>\n",
       "      <td>test2</td>\n",
       "      <td>sjdfsj ksdfjksdjfks</td>\n",
       "      <td>2015-05-12</td>\n",
       "      <td>None</td>\n",
       "      <td>2015-05-03 00:12:00</td>\n",
       "      <td>NaT</td>\n",
       "      <td>1</td>\n",
       "      <td>NaN</td>\n",
       "    </tr>\n",
       "  </tbody>\n",
       "</table>\n",
       "</div>"
      ],
      "text/plain": [
       "   NewsID                                 Token  \\\n",
       "0       5  01DB27E3-82DB-4408-BB2C-3278EE9CD7E7   \n",
       "1    1009  3359D596-BE19-4EE9-9451-E55E1140BD9F   \n",
       "2    2009  D2916913-0855-4702-BF57-2793A87E12AD   \n",
       "3    2010  D2916913-0855-4702-BF57-2793A87E12AD   \n",
       "4    2011  D2916913-0855-4702-BF57-2793A87E12AD   \n",
       "\n",
       "                         Headline  \\\n",
       "0                  This is a test   \n",
       "1  Bawarchi in Plymouth Rocks !!!   \n",
       "2                            Test   \n",
       "3                            test   \n",
       "4                           test2   \n",
       "\n",
       "                                         NewsContent   NewsDate ExternalLink  \\\n",
       "0                                               None 2014-01-25         None   \n",
       "1  &lt;p&gt;\\r\\n\\t&lt;img alt=\"Minneapolis St. Pa... 2014-11-05         None   \n",
       "2                                               None 2015-05-01         None   \n",
       "3               <p>\\r\\n\\tThis is a test</p><hr/>\\r\\n 2015-05-19         None   \n",
       "4                                sjdfsj ksdfjksdjfks 2015-05-12         None   \n",
       "\n",
       "          DateCreated        DateModified  CreatedBy  UpdatedBy  \n",
       "0 2014-01-25 01:05:00                 NaT          2        NaN  \n",
       "1 2014-11-05 22:58:00 2014-11-05 23:49:00          3        3.0  \n",
       "2 2015-05-02 22:11:00                 NaT          1        NaN  \n",
       "3 2015-05-03 00:11:00 2015-05-03 00:11:00          1        1.0  \n",
       "4 2015-05-03 00:12:00                 NaT          1        NaN  "
      ]
     },
     "execution_count": 7,
     "metadata": {},
     "output_type": "execute_result"
    }
   ],
   "source": [
    "#CAll database to create dataframe\n",
    "from sqlalchemy import text as sql_text\n",
    "query = 'SELECT * FROM dbo.News'\n",
    "df = pd.read_sql_query(con=engine.connect(),sql=sql_text(query))\n",
    "df.head()"
   ]
  },
  {
   "attachments": {},
   "cell_type": "markdown",
   "metadata": {},
   "source": [
    "# Pringle Pages"
   ]
  },
  {
   "cell_type": "code",
   "execution_count": null,
   "metadata": {},
   "outputs": [],
   "source": [
    "#Tables\n",
    "# dbo.changelog\n",
    "#dbo.Page"
   ]
  },
  {
   "cell_type": "code",
   "execution_count": 11,
   "metadata": {},
   "outputs": [],
   "source": [
    "#Creates appropriate engine for db query to pandas w/ windows authentication\n",
    "import urllib\n",
    "params = urllib.parse.quote_plus(\"DRIVER={SQL Server};\"\n",
    "                                 \"SERVER=PRINGLED0000031\\SQLEXPRESS;\"\n",
    "                                 \"DATABASE=PringlePages;\"\n",
    "                                 \"UID=PringlePages_User;\"\n",
    "                                 \"PWD=rtaIx3lijs0lLKT2tReL9awvzBlQ1XHa;\"\n",
    "                                 \"Trusted_Connection=yes\")\n",
    "\n",
    "engine = sa.create_engine(\"mssql+pyodbc:///?odbc_connect={}\".format(params))"
   ]
  },
  {
   "cell_type": "code",
   "execution_count": 14,
   "metadata": {},
   "outputs": [
    {
     "data": {
      "text/plain": [
       "(12, 17)"
      ]
     },
     "execution_count": 14,
     "metadata": {},
     "output_type": "execute_result"
    }
   ],
   "source": [
    "#CAll database to create dataframe\n",
    "from sqlalchemy import text as sql_text\n",
    "query = 'SELECT * FROM dbo.Page'\n",
    "df = pd.read_sql_query(con=engine.connect(),sql=sql_text(query))\n",
    "df.shape"
   ]
  },
  {
   "attachments": {},
   "cell_type": "markdown",
   "metadata": {},
   "source": [
    "# Pringle Posx"
   ]
  },
  {
   "cell_type": "code",
   "execution_count": null,
   "metadata": {},
   "outputs": [],
   "source": [
    "#Columns\n",
    "#"
   ]
  },
  {
   "cell_type": "code",
   "execution_count": 16,
   "metadata": {},
   "outputs": [],
   "source": [
    "#Creates appropriate engine for db query to pandas w/ windows authentication\n",
    "import urllib\n",
    "params = urllib.parse.quote_plus(\"DRIVER={SQL Server};\"\n",
    "                                 \"SERVER=PRINGLED0000031\\SQLEXPRESS;\"\n",
    "                                 \"DATABASE=PringlePOSx;\"\n",
    "                                 \"UID=PringlePOSx_User;\"\n",
    "                                 \"PWD=mwCYwZ8AjkJPTDS28pvIiJsSNnsL02cJ;\"\n",
    "                                 \"Trusted_Connection=yes\")\n",
    "\n",
    "engine = sa.create_engine(\"mssql+pyodbc:///?odbc_connect={}\".format(params))"
   ]
  },
  {
   "cell_type": "code",
   "execution_count": 21,
   "metadata": {},
   "outputs": [
    {
     "ename": "SyntaxError",
     "evalue": "invalid syntax (1989337692.py, line 2)",
     "output_type": "error",
     "traceback": [
      "\u001b[1;36m  Cell \u001b[1;32mIn[21], line 2\u001b[1;36m\u001b[0m\n\u001b[1;33m    sa.create_engine().<TAB>\u001b[0m\n\u001b[1;37m                       ^\u001b[0m\n\u001b[1;31mSyntaxError\u001b[0m\u001b[1;31m:\u001b[0m invalid syntax\n"
     ]
    }
   ],
   "source": [
    "sa.create_engine()"
   ]
  },
  {
   "cell_type": "code",
   "execution_count": 10,
   "metadata": {},
   "outputs": [
    {
     "data": {
      "text/html": [
       "<div>\n",
       "<style scoped>\n",
       "    .dataframe tbody tr th:only-of-type {\n",
       "        vertical-align: middle;\n",
       "    }\n",
       "\n",
       "    .dataframe tbody tr th {\n",
       "        vertical-align: top;\n",
       "    }\n",
       "\n",
       "    .dataframe thead th {\n",
       "        text-align: right;\n",
       "    }\n",
       "</style>\n",
       "<table border=\"1\" class=\"dataframe\">\n",
       "  <thead>\n",
       "    <tr style=\"text-align: right;\">\n",
       "      <th></th>\n",
       "      <th>CuisineTypeID</th>\n",
       "      <th>CuisineType</th>\n",
       "      <th>DateCreated</th>\n",
       "      <th>DateModified</th>\n",
       "      <th>CreatedBy</th>\n",
       "      <th>UpdatedBy</th>\n",
       "    </tr>\n",
       "  </thead>\n",
       "  <tbody>\n",
       "  </tbody>\n",
       "</table>\n",
       "</div>"
      ],
      "text/plain": [
       "Empty DataFrame\n",
       "Columns: [CuisineTypeID, CuisineType, DateCreated, DateModified, CreatedBy, UpdatedBy]\n",
       "Index: []"
      ]
     },
     "execution_count": 10,
     "metadata": {},
     "output_type": "execute_result"
    }
   ],
   "source": [
    "#CAll database to create dataframe\n",
    "from sqlalchemy import text as sql_text\n",
    "query = 'SELECT * FROM dbo.CuisineType'\n",
    "df = pd.read_sql_query(con=engine.connect(),sql=sql_text(query))\n",
    "df.head()"
   ]
  }
 ],
 "metadata": {
  "kernelspec": {
   "display_name": "Python 3",
   "language": "python",
   "name": "python3"
  },
  "language_info": {
   "codemirror_mode": {
    "name": "ipython",
    "version": 3
   },
   "file_extension": ".py",
   "mimetype": "text/x-python",
   "name": "python",
   "nbconvert_exporter": "python",
   "pygments_lexer": "ipython3",
   "version": "3.10.11"
  },
  "orig_nbformat": 4,
  "vscode": {
   "interpreter": {
    "hash": "a940f455cdd9b9ef63ec3eef40f3c4fddcc6891ec7998528e58536e32f17ccf1"
   }
  }
 },
 "nbformat": 4,
 "nbformat_minor": 2
}
