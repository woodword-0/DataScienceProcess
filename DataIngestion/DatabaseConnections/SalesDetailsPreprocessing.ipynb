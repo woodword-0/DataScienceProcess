{
 "cells": [
  {
   "cell_type": "code",
   "execution_count": 2,
   "metadata": {},
   "outputs": [],
   "source": [
    "import requests\n",
    "import numpy as np\n",
    "import re\n",
    "import pandas as pd\n",
    "import json\n",
    "import matplotlib.pyplot as plt\n",
    "from pandas.plotting import autocorrelation_plot\n",
    "import pandas as pd\n",
    "from pandas_market_calendars import get_calendar, MarketCalendar\n",
    "from geopy.geocoders import Nominatim\n",
    "from datetime import datetime, timedelta\n",
    "from statsmodels.tsa.arima.model import ARIMA\n",
    "import statsmodels.api as sm\n",
    "from statsmodels.tsa.stattools import adfuller\n",
    "\n"
   ]
  },
  {
   "attachments": {},
   "cell_type": "markdown",
   "metadata": {},
   "source": [
    "# Import Data"
   ]
  },
  {
   "attachments": {},
   "cell_type": "markdown",
   "metadata": {},
   "source": [
    "# Engineering Features"
   ]
  },
  {
   "attachments": {},
   "cell_type": "markdown",
   "metadata": {},
   "source": [
    "## Key ID via PostalCode"
   ]
  },
  {
   "cell_type": "code",
   "execution_count": 3,
   "metadata": {},
   "outputs": [],
   "source": [
    "path = \"C:/CodeTest1/Venv1/SalesFeb2023/\"\n",
    "file1 = \"Query1.xlsx\"\n",
    "file2 = \"Customer_PostalCodes.xlsx\"\n",
    "file3 = \"Customer_Token_PostalCodes.xlsx\"\n",
    "df1 = pd.read_excel(path + file1)\n",
    "df2 = pd.read_excel(path + file2)\n",
    "df3 = pd.read_excel(path + file3)"
   ]
  },
  {
   "cell_type": "code",
   "execution_count": 14,
   "metadata": {},
   "outputs": [
    {
     "data": {
      "text/plain": [
       "(3547, 191)"
      ]
     },
     "execution_count": 14,
     "metadata": {},
     "output_type": "execute_result"
    }
   ],
   "source": [
    "df3.CustomerName.nunique(),df1.CustomerName.nunique()"
   ]
  },
  {
   "cell_type": "code",
   "execution_count": 16,
   "metadata": {},
   "outputs": [
    {
     "data": {
      "text/plain": [
       "SalesDate       0\n",
       "CustomerName    0\n",
       "C_TotalSales    0\n",
       "token           0\n",
       "PostalCode      0\n",
       "dtype: int64"
      ]
     },
     "execution_count": 16,
     "metadata": {},
     "output_type": "execute_result"
    }
   ],
   "source": [
    "# df3.join(df1,'CustomerName')\n",
    "pd.merge(df1, df3, on='CustomerName', how='left').isna().sum()\n"
   ]
  },
  {
   "cell_type": "code",
   "execution_count": 17,
   "metadata": {},
   "outputs": [],
   "source": [
    "df = pd.merge(df1, df3, on='CustomerName', how='left')"
   ]
  },
  {
   "cell_type": "code",
   "execution_count": 19,
   "metadata": {},
   "outputs": [
    {
     "data": {
      "text/html": [
       "<div>\n",
       "<style scoped>\n",
       "    .dataframe tbody tr th:only-of-type {\n",
       "        vertical-align: middle;\n",
       "    }\n",
       "\n",
       "    .dataframe tbody tr th {\n",
       "        vertical-align: top;\n",
       "    }\n",
       "\n",
       "    .dataframe thead th {\n",
       "        text-align: right;\n",
       "    }\n",
       "</style>\n",
       "<table border=\"1\" class=\"dataframe\">\n",
       "  <thead>\n",
       "    <tr style=\"text-align: right;\">\n",
       "      <th></th>\n",
       "      <th>SalesDate</th>\n",
       "      <th>CustomerName</th>\n",
       "      <th>C_TotalSales</th>\n",
       "      <th>token</th>\n",
       "      <th>PostalCode</th>\n",
       "    </tr>\n",
       "  </thead>\n",
       "  <tbody>\n",
       "    <tr>\n",
       "      <th>0</th>\n",
       "      <td>2022-07-06</td>\n",
       "      <td>Raaga Indian Kitchen and Bar</td>\n",
       "      <td>569.69</td>\n",
       "      <td>5ACECA1F-8DEC-40DE-8D58-DA1E8D831243</td>\n",
       "      <td>33647</td>\n",
       "    </tr>\n",
       "    <tr>\n",
       "      <th>1</th>\n",
       "      <td>2022-11-06</td>\n",
       "      <td>Bawarchi Biryanis - Fort Collins, CO</td>\n",
       "      <td>4114.14</td>\n",
       "      <td>EAC9E169-C3C7-460B-8E01-863E7A70F9D7</td>\n",
       "      <td>80525</td>\n",
       "    </tr>\n",
       "    <tr>\n",
       "      <th>2</th>\n",
       "      <td>2023-02-09</td>\n",
       "      <td>Aappakadai Indian Chettinad - Santa Clara, CA</td>\n",
       "      <td>2573.13</td>\n",
       "      <td>5D21088F-6603-4ECD-A4DA-237DE018C8FD</td>\n",
       "      <td>95051</td>\n",
       "    </tr>\n",
       "    <tr>\n",
       "      <th>3</th>\n",
       "      <td>2022-06-08</td>\n",
       "      <td>Cafe Delhi</td>\n",
       "      <td>4474.28</td>\n",
       "      <td>96963192-532C-4AD8-87AC-22A9DDF2E87C</td>\n",
       "      <td>15106</td>\n",
       "    </tr>\n",
       "    <tr>\n",
       "      <th>4</th>\n",
       "      <td>2022-11-19</td>\n",
       "      <td>Bawarchi Biryanis - Mississauga, ON</td>\n",
       "      <td>11165.23</td>\n",
       "      <td>3D18974D-7054-4402-A55A-B00DC0B99AE7</td>\n",
       "      <td>L5R 0G2</td>\n",
       "    </tr>\n",
       "    <tr>\n",
       "      <th>...</th>\n",
       "      <td>...</td>\n",
       "      <td>...</td>\n",
       "      <td>...</td>\n",
       "      <td>...</td>\n",
       "      <td>...</td>\n",
       "    </tr>\n",
       "    <tr>\n",
       "      <th>32890</th>\n",
       "      <td>2022-11-03</td>\n",
       "      <td>Taste of India - St Augustine, FL</td>\n",
       "      <td>3964.99</td>\n",
       "      <td>1B423DD3-13C4-4F40-BC41-1D8C838C2665</td>\n",
       "      <td>32092</td>\n",
       "    </tr>\n",
       "    <tr>\n",
       "      <th>32891</th>\n",
       "      <td>2022-12-31</td>\n",
       "      <td>Minerva Indian Restaurant - Jacksonville, FL</td>\n",
       "      <td>509.49</td>\n",
       "      <td>991F8469-E3F3-444B-8E09-0452F1989DEB</td>\n",
       "      <td>32256</td>\n",
       "    </tr>\n",
       "    <tr>\n",
       "      <th>32892</th>\n",
       "      <td>2022-10-25</td>\n",
       "      <td>Bawarchi Biryanis - Schaumburg, IL</td>\n",
       "      <td>448.00</td>\n",
       "      <td>B10E246B-051A-4299-8BA7-2456F38DD45A</td>\n",
       "      <td>60194</td>\n",
       "    </tr>\n",
       "    <tr>\n",
       "      <th>32893</th>\n",
       "      <td>2022-08-02</td>\n",
       "      <td>Bawarchi Biryanis - West Des Moines, IA</td>\n",
       "      <td>10781.44</td>\n",
       "      <td>271EFD73-C828-4A4D-8C6D-D72E8E4EF0C4</td>\n",
       "      <td>50266</td>\n",
       "    </tr>\n",
       "    <tr>\n",
       "      <th>32894</th>\n",
       "      <td>2023-01-31</td>\n",
       "      <td>Taste of India - St Augustine, FL</td>\n",
       "      <td>1712.20</td>\n",
       "      <td>1B423DD3-13C4-4F40-BC41-1D8C838C2665</td>\n",
       "      <td>32092</td>\n",
       "    </tr>\n",
       "  </tbody>\n",
       "</table>\n",
       "<p>32895 rows × 5 columns</p>\n",
       "</div>"
      ],
      "text/plain": [
       "       SalesDate                                   CustomerName  C_TotalSales  \\\n",
       "0     2022-07-06                   Raaga Indian Kitchen and Bar        569.69   \n",
       "1     2022-11-06           Bawarchi Biryanis - Fort Collins, CO       4114.14   \n",
       "2     2023-02-09  Aappakadai Indian Chettinad - Santa Clara, CA       2573.13   \n",
       "3     2022-06-08                                     Cafe Delhi       4474.28   \n",
       "4     2022-11-19            Bawarchi Biryanis - Mississauga, ON      11165.23   \n",
       "...          ...                                            ...           ...   \n",
       "32890 2022-11-03              Taste of India - St Augustine, FL       3964.99   \n",
       "32891 2022-12-31   Minerva Indian Restaurant - Jacksonville, FL        509.49   \n",
       "32892 2022-10-25             Bawarchi Biryanis - Schaumburg, IL        448.00   \n",
       "32893 2022-08-02        Bawarchi Biryanis - West Des Moines, IA      10781.44   \n",
       "32894 2023-01-31              Taste of India - St Augustine, FL       1712.20   \n",
       "\n",
       "                                      token PostalCode  \n",
       "0      5ACECA1F-8DEC-40DE-8D58-DA1E8D831243      33647  \n",
       "1      EAC9E169-C3C7-460B-8E01-863E7A70F9D7      80525  \n",
       "2      5D21088F-6603-4ECD-A4DA-237DE018C8FD      95051  \n",
       "3      96963192-532C-4AD8-87AC-22A9DDF2E87C      15106  \n",
       "4      3D18974D-7054-4402-A55A-B00DC0B99AE7    L5R 0G2  \n",
       "...                                     ...        ...  \n",
       "32890  1B423DD3-13C4-4F40-BC41-1D8C838C2665      32092  \n",
       "32891  991F8469-E3F3-444B-8E09-0452F1989DEB      32256  \n",
       "32892  B10E246B-051A-4299-8BA7-2456F38DD45A      60194  \n",
       "32893  271EFD73-C828-4A4D-8C6D-D72E8E4EF0C4      50266  \n",
       "32894  1B423DD3-13C4-4F40-BC41-1D8C838C2665      32092  \n",
       "\n",
       "[32895 rows x 5 columns]"
      ]
     },
     "execution_count": 19,
     "metadata": {},
     "output_type": "execute_result"
    }
   ],
   "source": [
    "df"
   ]
  },
  {
   "cell_type": "code",
   "execution_count": 21,
   "metadata": {},
   "outputs": [
    {
     "data": {
      "text/plain": [
       "'5D21088F-6603-4ECD-A4DA-237DE018C8FD'"
      ]
     },
     "execution_count": 21,
     "metadata": {},
     "output_type": "execute_result"
    }
   ],
   "source": [
    "df.loc[df.CustomerName == 'Aappakadai Indian Chettinad - Santa Clara, CA'].token.iloc[0]"
   ]
  },
  {
   "attachments": {},
   "cell_type": "markdown",
   "metadata": {},
   "source": [
    "## Search for customer by substring or token"
   ]
  },
  {
   "cell_type": "code",
   "execution_count": 8,
   "metadata": {},
   "outputs": [
    {
     "data": {
      "text/plain": [
       "CustomerName    Aappakadai Indian Chettinad - Santa Clara, CA\n",
       "token                    5D21088F-6603-4ECD-A4DA-237DE018C8FD\n",
       "PostalCode                                              95051\n",
       "Name: 3545, dtype: object"
      ]
     },
     "execution_count": 8,
     "metadata": {},
     "output_type": "execute_result"
    }
   ],
   "source": [
    "# define the search phrase\n",
    "search_phrase = 'Aappakadai Indian Chettinad'\n",
    "\n",
    "# create a regular expression pattern\n",
    "pattern = re.compile(search_phrase, flags=re.IGNORECASE)\n",
    "\n",
    "# create a boolean mask to filter the dataframe based on the pattern\n",
    "mask = df3['CustomerName'].str.contains(pattern)\n",
    "\n",
    "# apply the boolean mask to the dataframe to get the filtered rows\n",
    "postal_df = df3[mask]\n",
    "\n",
    "\n",
    "# print the filtered dataframe\n",
    "postal_df.iloc[1]"
   ]
  },
  {
   "attachments": {},
   "cell_type": "markdown",
   "metadata": {},
   "source": [
    "## Adding day of week and holiday (yes/no)"
   ]
  },
  {
   "cell_type": "code",
   "execution_count": 533,
   "metadata": {},
   "outputs": [
    {
     "data": {
      "text/plain": [
       "(32621, 5)"
      ]
     },
     "execution_count": 533,
     "metadata": {},
     "output_type": "execute_result"
    }
   ],
   "source": [
    "# Add on columns for day of week and is or is not holiday\n",
    "df_ts = df1.copy()\n",
    "\n",
    "# Add a column for the day of the week\n",
    "df_ts['day_of_week'] = df_ts['SalesDate'].dt.strftime('%A')\n",
    "\n",
    "# Create a calendar object for the NYSE\n",
    "nyse = get_calendar('NYSE')\n",
    "\n",
    "# Get the holiday calendar for the NYSE\n",
    "nyse_holidays = nyse.schedule(start_date=df_ts['SalesDate'].min(), end_date=df_ts['SalesDate'].max())\n",
    "\n",
    "# Add a column for whether each date is a holiday\n",
    "df_ts['is_holiday'] = df_ts['SalesDate'].isin(nyse_holidays.index)\n",
    "\n",
    "df_ts.shape"
   ]
  },
  {
   "attachments": {},
   "cell_type": "markdown",
   "metadata": {},
   "source": [
    "## Filter DataFrame by customer"
   ]
  },
  {
   "cell_type": "code",
   "execution_count": 534,
   "metadata": {},
   "outputs": [
    {
     "name": "stdout",
     "output_type": "stream",
     "text": [
      "       SalesDate                                   CustomerName  C_TotalSales  \\\n",
      "2     2023-02-09  Aappakadai Indian Chettinad - Santa Clara, CA       2573.13   \n",
      "416   2023-01-06  Aappakadai Indian Chettinad - Santa Clara, CA       6531.73   \n",
      "533   2022-10-29  Aappakadai Indian Chettinad - Santa Clara, CA       5540.77   \n",
      "673   2022-12-03  Aappakadai Indian Chettinad - Santa Clara, CA       7461.19   \n",
      "829   2022-10-16  Aappakadai Indian Chettinad - Santa Clara, CA       7939.08   \n",
      "...          ...                                            ...           ...   \n",
      "32056 2022-06-03  Aappakadai Indian Chettinad - Santa Clara, CA       8213.16   \n",
      "32083 2023-02-16  Aappakadai Indian Chettinad - Santa Clara, CA       2027.89   \n",
      "32133 2023-01-13  Aappakadai Indian Chettinad - Santa Clara, CA      10740.93   \n",
      "32186 2023-01-16  Aappakadai Indian Chettinad - Santa Clara, CA       3750.53   \n",
      "32272 2022-12-13  Aappakadai Indian Chettinad - Santa Clara, CA       2343.51   \n",
      "\n",
      "      day_of_week  is_holiday  \n",
      "2        Thursday        True  \n",
      "416        Friday        True  \n",
      "533      Saturday       False  \n",
      "673      Saturday       False  \n",
      "829        Sunday       False  \n",
      "...           ...         ...  \n",
      "32056      Friday        True  \n",
      "32083    Thursday        True  \n",
      "32133      Friday        True  \n",
      "32186      Monday       False  \n",
      "32272     Tuesday        True  \n",
      "\n",
      "[274 rows x 5 columns]\n"
     ]
    }
   ],
   "source": [
    "# define the search phrase\n",
    "search_phrase = 'Aappakadai Indian Chettinad - Santa Clara, CA'\n",
    "\n",
    "# create a regular expression pattern\n",
    "pattern = re.compile(search_phrase, flags=re.IGNORECASE)\n",
    "\n",
    "# create a boolean mask to filter the dataframe based on the pattern\n",
    "mask = df_ts['CustomerName'].str.contains(pattern)\n",
    "\n",
    "# apply the boolean mask to the dataframe to get the filtered rows\n",
    "filtered_df = df_ts[mask]\n",
    "\n",
    "# print the filtered dataframe\n",
    "print(filtered_df)"
   ]
  },
  {
   "attachments": {},
   "cell_type": "markdown",
   "metadata": {},
   "source": [
    "## Adding weather data"
   ]
  },
  {
   "attachments": {},
   "cell_type": "markdown",
   "metadata": {},
   "source": [
    "### Find the nearest station given a PostalCode"
   ]
  },
  {
   "cell_type": "code",
   "execution_count": 535,
   "metadata": {},
   "outputs": [
    {
     "data": {
      "text/plain": [
       "'95051'"
      ]
     },
     "execution_count": 535,
     "metadata": {},
     "output_type": "execute_result"
    }
   ],
   "source": [
    "# Directory for stations.txt file along with postal code\n",
    "api_key = 'sLyRxkcsmqBlZUQtwoVxrIGLkTAbTosu'  # Replace with your NOAA API key\n",
    "data_directory = \"C:/CodeTest1/Venv1/WeatherData/ghcnddata/\"\n",
    "postal_code = postal_df.iloc[1].PostalCode                                              \n",
    "postal_code"
   ]
  },
  {
   "cell_type": "code",
   "execution_count": 536,
   "metadata": {},
   "outputs": [],
   "source": [
    "\n",
    "\n",
    "def nearest_stations(postal_code,data_directory):\n",
    "    geolocator = Nominatim(user_agent=\"myGeocoder\")\n",
    "    location = geolocator.geocode(f'{postal_code},USA')\n",
    "    latitude, longitude = location.latitude, location.longitude\n",
    "    # Find the nearest station IDs \n",
    "    columns = [\"ID\", \"LATITUDE\", \"LONGITUDE\", \"ELEVATION\", \"STATE\", \"NAME\", \"GSN_FLAG\", \"HCN_CRN_FLAG\", \"WMO_ID\"]\n",
    "    widths = [11, 9, 10, 7, 3, 31, 4, 4, 6]\n",
    "    df_stations = pd.read_fwf(os.path.join(data_directory, \"ghcnd-stations.txt\"), names=columns, header=None, widths=widths)\n",
    "    df_stations[\"DISTANCE\"] = ((df_stations[\"LATITUDE\"] - latitude) ** 2 + (df_stations[\"LONGITUDE\"] - longitude) ** 2) ** 0.5\n",
    "    # Sort the DataFrame by distance and select the top 5 nearest stations\n",
    "    nearest_stations = df_stations.nsmallest(5, \"DISTANCE\")\n",
    "    nearest_stations = nearest_stations.ID.tolist()\n",
    "    return nearest_stations"
   ]
  },
  {
   "cell_type": "code",
   "execution_count": 537,
   "metadata": {},
   "outputs": [],
   "source": [
    "# def closest_stations(postal_code,api_key):\n",
    "\n",
    "# api_key = 'sLyRxkcsmqBlZUQtwoVxrIGLkTAbTosu'  # Replace with your NOAA API key\n",
    "# endpoint = f'https://www.ncei.noaa.gov/cdo-web/api/v2/stations?datasetid=GHCND&locationid=ZIP:95051&limit=15'\n",
    "# response = requests.get(endpoint, headers={'token': api_key})\n",
    "# response\n",
    "# response.raise_for_status()\n",
    "# data = response.json()\n",
    "# data\n",
    "# # nearest_stations = [station[\"id\"] for station in data[\"results\"]]\n",
    "# nearest_stations"
   ]
  },
  {
   "cell_type": "code",
   "execution_count": 538,
   "metadata": {},
   "outputs": [],
   "source": [
    "# Top 5 nearest stations\n",
    "# closest_stations = closest_stations(postal_code,api_key)"
   ]
  },
  {
   "cell_type": "code",
   "execution_count": 539,
   "metadata": {},
   "outputs": [],
   "source": [
    "# Top 5 nearest stations\n",
    "nearest_stations = nearest_stations(postal_code,data_directory)"
   ]
  },
  {
   "cell_type": "code",
   "execution_count": 540,
   "metadata": {},
   "outputs": [
    {
     "data": {
      "text/plain": [
       "['US1CASC0003', 'US1CASC0042', 'US1CASC0032', 'USC00047912', 'USC00047821']"
      ]
     },
     "execution_count": 540,
     "metadata": {},
     "output_type": "execute_result"
    }
   ],
   "source": [
    "nearest_stations"
   ]
  },
  {
   "cell_type": "code",
   "execution_count": 541,
   "metadata": {},
   "outputs": [],
   "source": [
    "# startdate=filtered_df.SalesDate.min().strftime('%Y-%m-%d')\n",
    "# enddate=filtered_df.SalesDate.max().strftime('%Y-%m-%d')\n",
    "# startdate"
   ]
  },
  {
   "attachments": {},
   "cell_type": "markdown",
   "metadata": {},
   "source": [
    "### Precipitation"
   ]
  },
  {
   "cell_type": "code",
   "execution_count": 542,
   "metadata": {},
   "outputs": [],
   "source": [
    "api_key = 'sLyRxkcsmqBlZUQtwoVxrIGLkTAbTosu'\n",
    "startdate=filtered_df.SalesDate.min().strftime('%Y-%m-%d')\n",
    "enddate=filtered_df.SalesDate.max().strftime('%Y-%m-%d')\n",
    "def get_weather_data(station_id, api_key,startdate,enddate,type):\n",
    "    endpoint = f'https://www.ncei.noaa.gov/cdo-web/api/v2/data?datasetid=GHCND&stationid=GHCND:{station_id}&startdate={startdate}&enddate={enddate}&datatypeid={type}&limit=500'\n",
    "    response = requests.get(endpoint, headers={'token': api_key})\n",
    "    response.raise_for_status()\n",
    "    data = response.json()\n",
    "    return data"
   ]
  },
  {
   "cell_type": "code",
   "execution_count": 543,
   "metadata": {},
   "outputs": [
    {
     "name": "stdout",
     "output_type": "stream",
     "text": [
      "                           date datatype            station attributes  value\n",
      "date                                                                         \n",
      "2022-06-01  2022-06-01T00:00:00     PRCP  GHCND:US1CASC0032   ,,N,0700      0\n",
      "2022-06-02  2022-06-02T00:00:00     PRCP  GHCND:US1CASC0032   ,,N,0700      0\n",
      "2022-06-03  2022-06-03T00:00:00     PRCP  GHCND:US1CASC0032   ,,N,0700      0\n",
      "2022-06-04  2022-06-04T00:00:00     PRCP  GHCND:US1CASC0032   ,,N,0700      0\n",
      "2022-06-05  2022-06-05T00:00:00     PRCP  GHCND:US1CASC0032   ,,N,0700      0\n",
      "...                         ...      ...                ...        ...    ...\n",
      "2023-02-25  2023-02-25T00:00:00     PRCP  GHCND:US1CASC0032   ,,N,0700      8\n",
      "2023-02-26  2023-02-26T00:00:00     PRCP  GHCND:US1CASC0032   ,,N,0700      0\n",
      "2023-02-27  2023-02-27T00:00:00     PRCP  GHCND:US1CASC0032   ,,N,0700     51\n",
      "2023-02-28  2023-02-28T00:00:00     PRCP  GHCND:US1CASC0032   ,,N,0700    124\n",
      "2023-03-01  2023-03-01T00:00:00     PRCP  GHCND:US1CASC0032   ,,N,0700    119\n",
      "\n",
      "[274 rows x 5 columns]\n"
     ]
    }
   ],
   "source": [
    "def is_complete_dataframe(df, start_date, end_date):\n",
    "    date_range = pd.date_range(start=start_date, end=end_date, freq='D')\n",
    "    return len(df) == len(date_range) and (df.index == date_range).all()\n",
    "\n",
    "weather_data = {}\n",
    "nearest_station_index = 0\n",
    "\n",
    "while not weather_data and nearest_station_index < len(nearest_stations):\n",
    "    station_id = nearest_stations[nearest_station_index]\n",
    "    data = get_weather_data(station_id, api_key, startdate, enddate, 'PRCP')\n",
    "    \n",
    "    if 'results' in data:\n",
    "        weather_data = data['results']\n",
    "        dfPRCP = pd.DataFrame(weather_data)\n",
    "        dfPRCP.set_index(pd.to_datetime(dfPRCP['date']), inplace=True)\n",
    "        \n",
    "        if not is_complete_dataframe(dfPRCP, startdate, enddate):\n",
    "            weather_data = {}\n",
    "    \n",
    "    nearest_station_index += 1\n",
    "\n",
    "if weather_data:\n",
    "    print(dfPRCP)\n",
    "else:\n",
    "    print(\"No full dataset found for the top 5 nearest stations.\")\n"
   ]
  },
  {
   "cell_type": "code",
   "execution_count": 544,
   "metadata": {},
   "outputs": [],
   "source": [
    "#Converts to degrees Celsius\n",
    "dfPRCP['value'] = dfPRCP['value']/10"
   ]
  },
  {
   "attachments": {},
   "cell_type": "markdown",
   "metadata": {},
   "source": [
    "##### Prep PRCP DataFrame"
   ]
  },
  {
   "cell_type": "code",
   "execution_count": 545,
   "metadata": {},
   "outputs": [
    {
     "data": {
      "text/plain": [
       "SalesDate    0\n",
       "PRCP         0\n",
       "dtype: int64"
      ]
     },
     "execution_count": 545,
     "metadata": {},
     "output_type": "execute_result"
    }
   ],
   "source": [
    "dfPRCP_prep = dfPRCP[['date','value']].copy()\n",
    "dfPRCP_prep.rename(columns={'date': 'SalesDate', 'value': 'PRCP'}, inplace=True)\n",
    "\n",
    "dfPRCP_prep.isna().sum()"
   ]
  },
  {
   "cell_type": "code",
   "execution_count": 546,
   "metadata": {},
   "outputs": [
    {
     "data": {
      "text/plain": [
       "(274, 2)"
      ]
     },
     "execution_count": 546,
     "metadata": {},
     "output_type": "execute_result"
    }
   ],
   "source": [
    "dfPRCP_prep.shape"
   ]
  },
  {
   "attachments": {},
   "cell_type": "markdown",
   "metadata": {},
   "source": [
    "### Temperature"
   ]
  },
  {
   "attachments": {},
   "cell_type": "markdown",
   "metadata": {},
   "source": [
    "#### Min Temperature"
   ]
  },
  {
   "cell_type": "code",
   "execution_count": 547,
   "metadata": {},
   "outputs": [
    {
     "name": "stdout",
     "output_type": "stream",
     "text": [
      "                           date datatype            station attributes  value\n",
      "date                                                                         \n",
      "2022-06-01  2022-06-01T00:00:00     TMIN  GHCND:USC00047821       ,,H,    117\n",
      "2022-06-02  2022-06-02T00:00:00     TMIN  GHCND:USC00047821       ,,H,    133\n",
      "2022-06-03  2022-06-03T00:00:00     TMIN  GHCND:USC00047821       ,,H,    139\n",
      "2022-06-04  2022-06-04T00:00:00     TMIN  GHCND:USC00047821       ,,H,    150\n",
      "2022-06-05  2022-06-05T00:00:00     TMIN  GHCND:USC00047821       ,,H,    167\n",
      "...                         ...      ...                ...        ...    ...\n",
      "2023-02-25  2023-02-25T00:00:00     TMIN  GHCND:USC00047821       ,,H,     33\n",
      "2023-02-26  2023-02-26T00:00:00     TMIN  GHCND:USC00047821       ,,H,     67\n",
      "2023-02-27  2023-02-27T00:00:00     TMIN  GHCND:USC00047821       ,,H,     33\n",
      "2023-02-28  2023-02-28T00:00:00     TMIN  GHCND:USC00047821       ,,H,     50\n",
      "2023-03-01  2023-03-01T00:00:00     TMIN  GHCND:USC00047821       ,,H,     39\n",
      "\n",
      "[274 rows x 5 columns]\n"
     ]
    }
   ],
   "source": [
    "def is_complete_dataframe(df, start_date, end_date):\n",
    "    date_range = pd.date_range(start=start_date, end=end_date, freq='D')\n",
    "    return len(df) == len(date_range) and (df.index == date_range).all()\n",
    "\n",
    "weather_data = {}\n",
    "nearest_station_index = 0\n",
    "\n",
    "while not weather_data and nearest_station_index < len(nearest_stations):\n",
    "    station_id = nearest_stations[nearest_station_index]\n",
    "    data = get_weather_data(station_id, api_key, startdate, enddate, 'TMIN')\n",
    "    \n",
    "    if 'results' in data:\n",
    "        weather_data = data['results']\n",
    "        dfTMIN = pd.DataFrame(weather_data)\n",
    "        dfTMIN.set_index(pd.to_datetime(dfTMIN['date']), inplace=True)\n",
    "        \n",
    "        if not is_complete_dataframe(dfTMIN, startdate, enddate):\n",
    "            weather_data = {}\n",
    "    \n",
    "    nearest_station_index += 1\n",
    "\n",
    "if weather_data:\n",
    "    print(dfTMIN)\n",
    "else:\n",
    "    print(\"No full dataset found for the top 5 nearest stations.\")\n"
   ]
  },
  {
   "attachments": {},
   "cell_type": "markdown",
   "metadata": {},
   "source": [
    "##### Prep TMIN DataFrame"
   ]
  },
  {
   "cell_type": "code",
   "execution_count": 548,
   "metadata": {},
   "outputs": [],
   "source": [
    "#Converts to degrees Celsius\n",
    "dfTMIN['value'] = dfTMIN['value']/10"
   ]
  },
  {
   "cell_type": "code",
   "execution_count": 549,
   "metadata": {},
   "outputs": [
    {
     "data": {
      "text/plain": [
       "SalesDate    0\n",
       "TMIN         0\n",
       "dtype: int64"
      ]
     },
     "execution_count": 549,
     "metadata": {},
     "output_type": "execute_result"
    }
   ],
   "source": [
    "dfTMIN_prep = dfTMIN[['date','value']].copy()\n",
    "dfTMIN_prep.rename(columns={'date': 'SalesDate', 'value': 'TMIN'}, inplace=True)\n",
    "dfTMIN_prep.isna().sum()"
   ]
  },
  {
   "attachments": {},
   "cell_type": "markdown",
   "metadata": {},
   "source": [
    "#### Max Temperature"
   ]
  },
  {
   "cell_type": "code",
   "execution_count": 550,
   "metadata": {},
   "outputs": [
    {
     "name": "stdout",
     "output_type": "stream",
     "text": [
      "                           date datatype            station attributes  value\n",
      "date                                                                         \n",
      "2022-06-01  2022-06-01T00:00:00     TMAX  GHCND:USC00047821       ,,H,    294\n",
      "2022-06-02  2022-06-02T00:00:00     TMAX  GHCND:USC00047821       ,,H,    250\n",
      "2022-06-03  2022-06-03T00:00:00     TMAX  GHCND:USC00047821       ,,H,    239\n",
      "2022-06-04  2022-06-04T00:00:00     TMAX  GHCND:USC00047821       ,,H,    244\n",
      "2022-06-05  2022-06-05T00:00:00     TMAX  GHCND:USC00047821       ,,H,    272\n",
      "...                         ...      ...                ...        ...    ...\n",
      "2023-02-25  2023-02-25T00:00:00     TMAX  GHCND:USC00047821       ,,H,    122\n",
      "2023-02-26  2023-02-26T00:00:00     TMAX  GHCND:USC00047821       ,,H,    111\n",
      "2023-02-27  2023-02-27T00:00:00     TMAX  GHCND:USC00047821       ,,H,    100\n",
      "2023-02-28  2023-02-28T00:00:00     TMAX  GHCND:USC00047821       ,,H,    117\n",
      "2023-03-01  2023-03-01T00:00:00     TMAX  GHCND:USC00047821       ,,H,    122\n",
      "\n",
      "[274 rows x 5 columns]\n"
     ]
    }
   ],
   "source": [
    "def is_complete_dataframe(df, start_date, end_date):\n",
    "    date_range = pd.date_range(start=start_date, end=end_date, freq='D')\n",
    "    return len(df) == len(date_range) and (df.index == date_range).all()\n",
    "\n",
    "weather_data = {}\n",
    "nearest_station_index = 0\n",
    "\n",
    "while not weather_data and nearest_station_index < len(nearest_stations):\n",
    "    station_id = nearest_stations[nearest_station_index]\n",
    "    data = get_weather_data(station_id, api_key, startdate, enddate, 'TMAX')\n",
    "    \n",
    "    if 'results' in data:\n",
    "        weather_data = data['results']\n",
    "        dfTMAX = pd.DataFrame(weather_data)\n",
    "        dfTMAX.set_index(pd.to_datetime(dfTMAX['date']), inplace=True)\n",
    "        \n",
    "        if not is_complete_dataframe(dfTMAX, startdate, enddate):\n",
    "            weather_data = {}\n",
    "    \n",
    "    nearest_station_index += 1\n",
    "\n",
    "if weather_data:\n",
    "    print(dfTMAX)\n",
    "else:\n",
    "    print(\"No full dataset found for the top 5 nearest stations.\")"
   ]
  },
  {
   "attachments": {},
   "cell_type": "markdown",
   "metadata": {},
   "source": [
    "##### Prep TMAX DataFrame"
   ]
  },
  {
   "cell_type": "code",
   "execution_count": 551,
   "metadata": {},
   "outputs": [],
   "source": [
    "#Converts to degrees Celsius\n",
    "dfTMAX['value'] = dfTMAX['value']/10"
   ]
  },
  {
   "cell_type": "code",
   "execution_count": 552,
   "metadata": {},
   "outputs": [
    {
     "data": {
      "text/plain": [
       "SalesDate    0\n",
       "TMAX         0\n",
       "dtype: int64"
      ]
     },
     "execution_count": 552,
     "metadata": {},
     "output_type": "execute_result"
    }
   ],
   "source": [
    "dfTMAX_prep = dfTMAX[['date','value']].copy()\n",
    "dfTMAX_prep.rename(columns={'date': 'SalesDate', 'value': 'TMAX'}, inplace=True)\n",
    "dfTMAX_prep.isna().sum()"
   ]
  },
  {
   "attachments": {},
   "cell_type": "markdown",
   "metadata": {},
   "source": [
    "##### Prep TAVG DataFrame"
   ]
  },
  {
   "cell_type": "code",
   "execution_count": 553,
   "metadata": {},
   "outputs": [
    {
     "data": {
      "text/plain": [
       "SalesDate    0\n",
       "TAVG         0\n",
       "dtype: int64"
      ]
     },
     "execution_count": 553,
     "metadata": {},
     "output_type": "execute_result"
    }
   ],
   "source": [
    "dfTAVG_prep = dfTMAX_prep.copy()\n",
    "dfTAVG_prep['TAVG'] = (dfTMAX_prep.TMAX + dfTMIN_prep.TMIN)/2\n",
    "dfTAVG_prep.drop('TMAX',axis=1,inplace=True)\n",
    "dfTAVG_prep.isna().sum()"
   ]
  },
  {
   "attachments": {},
   "cell_type": "markdown",
   "metadata": {},
   "source": [
    "# Create DataFrame Phase1"
   ]
  },
  {
   "cell_type": "code",
   "execution_count": 554,
   "metadata": {},
   "outputs": [
    {
     "name": "stdout",
     "output_type": "stream",
     "text": [
      "DatetimeIndex(['2022-06-01', '2022-06-02', '2022-06-03', '2022-06-04',\n",
      "               '2022-06-05', '2022-06-06', '2022-06-07', '2022-06-08',\n",
      "               '2022-06-09', '2022-06-10',\n",
      "               ...\n",
      "               '2023-02-20', '2023-02-21', '2023-02-22', '2023-02-23',\n",
      "               '2023-02-24', '2023-02-25', '2023-02-26', '2023-02-27',\n",
      "               '2023-02-28', '2023-03-01'],\n",
      "              dtype='datetime64[ns]', name='SalesDate', length=274, freq=None)\n"
     ]
    }
   ],
   "source": [
    "# Set time index\n",
    "filtered_df.set_index('SalesDate', inplace=True)\n",
    "dfPRCP_prep.set_index('SalesDate', inplace=True)\n",
    "dfTMIN_prep.set_index('SalesDate', inplace=True)\n",
    "dfTMAX_prep.set_index('SalesDate', inplace=True)\n",
    "dfTAVG_prep.set_index('SalesDate', inplace=True)\n",
    "\n",
    "# Convert the index to a DatetimeIndex\n",
    "dfPRCP_prep.index = pd.to_datetime(dfPRCP_prep.index)\n",
    "dfTMIN_prep.index = pd.to_datetime(dfTMIN_prep.index)\n",
    "dfTMAX_prep.index = pd.to_datetime(dfTMAX_prep.index)\n",
    "dfTAVG_prep.index = pd.to_datetime(dfTAVG_prep.index)\n",
    "\n",
    "# Check the new index type\n",
    "print(dfTAVG_prep.index)"
   ]
  },
  {
   "cell_type": "code",
   "execution_count": 555,
   "metadata": {},
   "outputs": [],
   "source": [
    "# check for missing dates in each dataframe\n",
    "# missing_dates_df1 = pd.date_range(start='2022-06-01', end='2023-03-01').difference(filtered_df.index)\n",
    "# missing_dates_df2 = pd.date_range(start='2022-06-01', end='2023-03-01').difference(dfPRCP_prep.index)\n",
    "# missing_dates_df3 = pd.date_range(start='2022-06-01', end='2023-03-01').difference(dfTMIN_prep.index)\n",
    "# missing_dates_df4 = pd.date_range(start='2022-06-01', end='2023-03-01').difference(dfTMAX_prep.index)\n",
    "# missing_dates_df5 = pd.date_range(start='2022-06-01', end='2023-03-01').difference(dfTAVG_prep.index)\n",
    "# print(\"Missing dates in df1:\")\n",
    "# print(missing_dates_df1)\n",
    "# print(\"\\nMissing dates in df2:\")\n",
    "# print(missing_dates_df2)\n",
    "# print(\"\\nMissing dates in df3:\")\n",
    "# print(missing_dates_df3)\n",
    "# print(\"\\nMissing dates in df4:\")\n",
    "# print(missing_dates_df4)\n",
    "# print(\"\\nMissing dates in df5:\")\n",
    "# print(missing_dates_df5)\n"
   ]
  },
  {
   "cell_type": "code",
   "execution_count": 556,
   "metadata": {},
   "outputs": [
    {
     "name": "stdout",
     "output_type": "stream",
     "text": [
      "                                             CustomerName  C_TotalSales  \\\n",
      "SalesDate                                                                 \n",
      "2022-06-01  Aappakadai Indian Chettinad - Santa Clara, CA       3187.39   \n",
      "2022-06-02  Aappakadai Indian Chettinad - Santa Clara, CA       2594.12   \n",
      "2022-06-03  Aappakadai Indian Chettinad - Santa Clara, CA       8213.16   \n",
      "2022-06-04  Aappakadai Indian Chettinad - Santa Clara, CA       6712.50   \n",
      "2022-06-05  Aappakadai Indian Chettinad - Santa Clara, CA       6132.96   \n",
      "...                                                   ...           ...   \n",
      "2023-02-25  Aappakadai Indian Chettinad - Santa Clara, CA       5957.86   \n",
      "2023-02-26  Aappakadai Indian Chettinad - Santa Clara, CA       5665.28   \n",
      "2023-02-27  Aappakadai Indian Chettinad - Santa Clara, CA       2344.98   \n",
      "2023-02-28  Aappakadai Indian Chettinad - Santa Clara, CA       3340.90   \n",
      "2023-03-01  Aappakadai Indian Chettinad - Santa Clara, CA       2779.86   \n",
      "\n",
      "           day_of_week  is_holiday  PRCP  TMIN  TMAX   TAVG  \n",
      "SalesDate                                                    \n",
      "2022-06-01   Wednesday        True   0.0  11.7  29.4  20.55  \n",
      "2022-06-02    Thursday        True   0.0  13.3  25.0  19.15  \n",
      "2022-06-03      Friday        True   0.0  13.9  23.9  18.90  \n",
      "2022-06-04    Saturday       False   0.0  15.0  24.4  19.70  \n",
      "2022-06-05      Sunday       False   0.0  16.7  27.2  21.95  \n",
      "...                ...         ...   ...   ...   ...    ...  \n",
      "2023-02-25    Saturday       False   0.8   3.3  12.2   7.75  \n",
      "2023-02-26      Sunday       False   0.0   6.7  11.1   8.90  \n",
      "2023-02-27      Monday        True   5.1   3.3  10.0   6.65  \n",
      "2023-02-28     Tuesday        True  12.4   5.0  11.7   8.35  \n",
      "2023-03-01   Wednesday        True  11.9   3.9  12.2   8.05  \n",
      "\n",
      "[274 rows x 8 columns]\n"
     ]
    }
   ],
   "source": [
    "# filtered_df.set_index('SalesDate', inplace=True)\n",
    "# filtered_df.set_index('SalesDate', inplace=True)\n",
    "# dfPRCP_prep.set_index('SalesDate', inplace=True)\n",
    "# dfTMIN_prep.set_index('SalesDate', inplace=True)\n",
    "# dfTMAX_prep.set_index('SalesDate', inplace=True)\n",
    "# dfTMAX_prep.index\n",
    "\n",
    "merged_df = pd.concat([filtered_df, dfPRCP_prep,dfTMIN_prep, dfTMAX_prep, dfTAVG_prep], axis=1)\n",
    "\n",
    "# Merge DataFrames on time index\n",
    "# merged_df = filtered_df.merge(dfPRCP_prep, left_index=True, right_index=True, how='outer')\n",
    "# merged_df = filtered_df.merge(dfTMIN_prep, left_index=True, right_index=True, how='outer')\n",
    "# merged_df = merged_df.merge(dfTMAX_prep, left_index=True, right_index=True, how='outer')\n",
    "# merged_df = merged_df.merge(dfTAVG_prep, left_index=True, right_index=True, how='outer')\n",
    "\n",
    "print(merged_df)\n"
   ]
  },
  {
   "cell_type": "code",
   "execution_count": 557,
   "metadata": {},
   "outputs": [
    {
     "data": {
      "text/plain": [
       "CustomerName    0\n",
       "C_TotalSales    0\n",
       "day_of_week     0\n",
       "is_holiday      0\n",
       "PRCP            0\n",
       "TMIN            0\n",
       "TMAX            0\n",
       "TAVG            0\n",
       "dtype: int64"
      ]
     },
     "execution_count": 557,
     "metadata": {},
     "output_type": "execute_result"
    }
   ],
   "source": [
    "merged_df.isna().sum()"
   ]
  },
  {
   "cell_type": "markdown",
   "metadata": {},
   "source": [
    "#### Fill Nans with rolling average"
   ]
  },
  {
   "cell_type": "code",
   "execution_count": 558,
   "metadata": {},
   "outputs": [],
   "source": [
    "# # Set the window size for the rolling average\n",
    "# window_size = 3\n",
    "\n",
    "# # Compute the rolling average of the last 3 days and next 4 days\n",
    "# merged_df['rolling_avg'] = merged_df['DailyAvgPRCP'].rolling(window=window_size, min_periods=1, center=True).mean()\n",
    "\n",
    "# # Forward-fill missing values at the beginning of the time series\n",
    "# merged_df['rolling_avg'] = merged_df['rolling_avg'].fillna(method='ffill')\n",
    "\n",
    "# # Backward-fill missing values at the end of the time series\n",
    "# merged_df['rolling_avg'] = merged_df['rolling_avg'].fillna(method='bfill')\n",
    "\n",
    "# # Filling in the Average Percip Column\n",
    "# merged_df['DailyAvgPRCP'].fillna(merged_df['rolling_avg'], inplace=True)"
   ]
  },
  {
   "cell_type": "code",
   "execution_count": 559,
   "metadata": {},
   "outputs": [
    {
     "data": {
      "text/plain": [
       "CustomerName    0\n",
       "C_TotalSales    0\n",
       "day_of_week     0\n",
       "is_holiday      0\n",
       "PRCP            0\n",
       "TMIN            0\n",
       "TMAX            0\n",
       "TAVG            0\n",
       "dtype: int64"
      ]
     },
     "execution_count": 559,
     "metadata": {},
     "output_type": "execute_result"
    }
   ],
   "source": [
    "merged_df.isna().sum()"
   ]
  },
  {
   "cell_type": "code",
   "execution_count": 560,
   "metadata": {},
   "outputs": [
    {
     "data": {
      "image/png": "[encoded data removed]",
      "text/plain": [
       "<Figure size 640x480 with 1 Axes>"
      ]
     },
     "metadata": {},
     "output_type": "display_data"
    }
   ],
   "source": [
    "# autocorrelation_plot(merged_df.C_TotalSales)\n",
    "autocorrelation_plot(merged_df.TAVG)\n",
    "\n",
    "plt.show()"
   ]
  },
  {
   "attachments": {},
   "cell_type": "markdown",
   "metadata": {},
   "source": [
    "## Create Lag Features"
   ]
  },
  {
   "attachments": {},
   "cell_type": "markdown",
   "metadata": {},
   "source": [
    "### Use ARIMA Model to determine Lags"
   ]
  },
  {
   "cell_type": "code",
   "execution_count": 561,
   "metadata": {},
   "outputs": [
    {
     "name": "stdout",
     "output_type": "stream",
     "text": [
      "                               SARIMAX Results                                \n",
      "==============================================================================\n",
      "Dep. Variable:           C_TotalSales   No. Observations:                  274\n",
      "Model:                 ARIMA(9, 1, 0)   Log Likelihood               -2603.587\n",
      "Date:                Fri, 17 Mar 2023   AIC                           5249.174\n",
      "Time:                        14:21:48   BIC                           5324.973\n",
      "Sample:                    06-01-2022   HQIC                          5279.601\n",
      "                         - 03-01-2023                                         \n",
      "Covariance Type:                  opg                                         \n",
      "==============================================================================\n",
      "                 coef    std err          z      P>|z|      [0.025      0.975]\n",
      "------------------------------------------------------------------------------\n",
      "PRCP         -17.6642     48.874     -0.361      0.718    -113.456      78.127\n",
      "TAVG         193.5672    142.455      1.359      0.174     -85.640     472.774\n",
      "Friday      4243.0777   3491.782      1.215      0.224   -2600.690    1.11e+04\n",
      "Monday     -1316.9519   3590.385     -0.367      0.714   -8353.977    5720.073\n",
      "Saturday     525.9099   3760.702      0.140      0.889   -6844.930    7896.750\n",
      "Sunday       642.7876   3819.502      0.168      0.866   -6843.298    8128.874\n",
      "Thursday   -1744.4562   3750.065     -0.465      0.642   -9094.448    5605.536\n",
      "Tuesday    -1481.8941   3602.937     -0.411      0.681   -8543.520    5579.732\n",
      "Wednesday   -868.4731   3801.124     -0.228      0.819   -8318.538    6581.592\n",
      "False       1177.8423   1.23e+04      0.096      0.924   -2.29e+04    2.53e+04\n",
      "True       -1177.8423   1.21e+04     -0.097      0.923    -2.5e+04    2.26e+04\n",
      "ar.L1         -0.8468      0.055    -15.278      0.000      -0.955      -0.738\n",
      "ar.L2         -0.7451      0.113     -6.612      0.000      -0.966      -0.524\n",
      "ar.L3         -0.6171      0.122     -5.045      0.000      -0.857      -0.377\n",
      "ar.L4         -0.5223      0.120     -4.356      0.000      -0.757      -0.287\n",
      "ar.L5         -0.4970      0.127     -3.902      0.000      -0.747      -0.247\n",
      "ar.L6         -0.3904      0.134     -2.921      0.003      -0.652      -0.128\n",
      "ar.L7         -0.2204      0.136     -1.622      0.105      -0.487       0.046\n",
      "ar.L8         -0.1952      0.108     -1.809      0.070      -0.407       0.016\n",
      "ar.L9         -0.1308      0.090     -1.451      0.147      -0.307       0.046\n",
      "sigma2      1.146e+07   5.62e+05     20.392      0.000    1.04e+07    1.26e+07\n",
      "===================================================================================\n",
      "Ljung-Box (L1) (Q):                   0.10   Jarque-Bera (JB):             30496.51\n",
      "Prob(Q):                              0.75   Prob(JB):                         0.00\n",
      "Heteroskedasticity (H):               2.80   Skew:                             5.49\n",
      "Prob(H) (two-sided):                  0.00   Kurtosis:                        53.60\n",
      "===================================================================================\n",
      "\n",
      "Warnings:\n",
      "[1] Covariance matrix calculated using the outer product of gradients (complex-step).\n",
      "[2] Covariance matrix is singular or near-singular, with condition number 1.29e+20. Standard errors may be unstable.\n"
     ]
    },
    {
     "data": {
      "image/png": "[encoded data removed]",
      "text/plain": [
       "<Figure size 640x480 with 1 Axes>"
      ]
     },
     "metadata": {},
     "output_type": "display_data"
    },
    {
     "data": {
      "image/png": "[encoded data removed]",
      "text/plain": [
       "<Figure size 640x480 with 1 Axes>"
      ]
     },
     "metadata": {},
     "output_type": "display_data"
    },
    {
     "name": "stdout",
     "output_type": "stream",
     "text": [
      "                  0\n",
      "count    274.000000\n",
      "mean      62.034563\n",
      "std     3349.076498\n",
      "min    -6861.913318\n",
      "25%    -1411.807541\n",
      "50%     -290.996509\n",
      "75%      959.007003\n",
      "max    35854.439107\n"
     ]
    }
   ],
   "source": [
    "\n",
    "# fit an ARIMA model with exogeneous variables and plot residual errors\n",
    "#Create Exogeneous vars\n",
    "exog_df = merged_df[['day_of_week','is_holiday','PRCP','TAVG']]\n",
    "# get the dummies and store it in a variable\n",
    "dummies1 = pd.get_dummies(exog_df.day_of_week)\n",
    "dummies2 = pd.get_dummies(exog_df.is_holiday)\n",
    "# Concatenate the dummies to original dataframe\n",
    "exog_df = pd.concat([exog_df, dummies1, dummies2], axis='columns')\n",
    "# drop the values\n",
    "exog_df.drop(['day_of_week','is_holiday'], axis='columns',inplace=True)\n",
    "# Check that variables have same shape for model\n",
    "\n",
    "# load dataset\n",
    "df = merged_df.C_TotalSales\n",
    "# fit model\n",
    "model = ARIMA(df, exog =exog_df, order=(9,1,0))\n",
    "model_fit = model.fit()\n",
    "# summary of fit model\n",
    "print(model_fit.summary())\n",
    "# line plot of residuals\n",
    "residuals = pd.DataFrame(model_fit.resid)\n",
    "residuals.plot()\n",
    "plt.show()\n",
    "# density plot of residuals\n",
    "residuals.plot(kind='kde')\n",
    "plt.show()\n",
    "# summary stats of residuals\n",
    "print(residuals.describe())"
   ]
  },
  {
   "attachments": {},
   "cell_type": "markdown",
   "metadata": {},
   "source": [
    "### Check for optimal Lag"
   ]
  },
  {
   "cell_type": "code",
   "execution_count": 563,
   "metadata": {},
   "outputs": [
    {
     "data": {
      "text/plain": [
       "1"
      ]
     },
     "execution_count": 563,
     "metadata": {},
     "output_type": "execute_result"
    }
   ],
   "source": [
    "# BIC Criterion to compute optimal lag \n",
    "\n",
    "# Restric to Daily Total Sales Column\n",
    "# load dataset\n",
    "df = merged_df.C_TotalSales\n",
    "# Define a range of lag lengths to consider\n",
    "lags = range(1, 10)\n",
    "# Fit a model for each lag length and compute the BIC\n",
    "bics = []\n",
    "for lag in lags:\n",
    "    # Create the lagged variables\n",
    "    df_lagged = pd.concat([df.shift(i) for i in range(lag+1)], axis=1)\n",
    "    df_lagged.columns = ['y'] + ['L' + str(i) for i in range(1, lag+1)]    \n",
    "    df_lagged = df_lagged.fillna('bfill')\n",
    "    # Fit an ARIMA model with a constant term\n",
    "    model = sm.tsa.ARIMA(df_lagged['y'], order=(lag, 0, 0), exog=exog_df, trend='c',freq='D')\n",
    "    results = model.fit()\n",
    "\n",
    "    # Compute the BIC\n",
    "    bics.append(results.bic)\n",
    "\n",
    "# Choose the lag length that minimizes the BIC\n",
    "optimal_lag = lags[bics.index(min(bics))]\n",
    "optimal_lag"
   ]
  },
  {
   "cell_type": "code",
   "execution_count": 564,
   "metadata": {},
   "outputs": [
    {
     "name": "stdout",
     "output_type": "stream",
     "text": [
      "ADF Statistic: -6.006194787958071\n",
      "p-value: 1.6133739433158368e-07\n",
      "The optimal lag is 1 with an AIC of 5225.476499871415\n"
     ]
    }
   ],
   "source": [
    "# AIC Method\n",
    "df = merged_df.C_TotalSales\n",
    "\n",
    "# Check if the data is stationary\n",
    "result = adfuller(df)\n",
    "print(f\"ADF Statistic: {result[0]}\")\n",
    "print(f\"p-value: {result[1]}\")\n",
    "\n",
    "# If the data is non-stationary, consider differencing it\n",
    "if result[1] > 0.05:\n",
    "    df = df.diff().dropna()\n",
    "\n",
    "# Determine the optimal lag using the AIC\n",
    "def find_optimal_lag(df, max_lag):\n",
    "    best_aic = np.inf\n",
    "    best_lag = None\n",
    "\n",
    "    for lag in range(1, max_lag + 1):\n",
    "        model = ARIMA(df, order=(lag, 0, 0),exog=exog_df,trend='c',freq='D')\n",
    "        result = model.fit()\n",
    "        aic = result.aic\n",
    "        \n",
    "        if aic < best_aic:\n",
    "            best_aic = aic\n",
    "            best_lag = lag\n",
    "    \n",
    "    return best_lag, best_aic\n",
    "\n",
    "max_lag = 50  # You can set this to an appropriate value based on your data\n",
    "best_lag, best_aic = find_optimal_lag(df, max_lag)\n",
    "\n",
    "print(f\"The optimal lag is {best_lag} with an AIC of {best_aic}\")\n"
   ]
  },
  {
   "cell_type": "code",
   "execution_count": 571,
   "metadata": {},
   "outputs": [],
   "source": [
    "def create_lagged_features(df, optimal_lag):\n",
    "    for i in range(1, optimal_lag + 1):\n",
    "        df[f'lag_{i}'] = df.C_TotalSales.shift(i)\n",
    "    return df\n"
   ]
  },
  {
   "cell_type": "code",
   "execution_count": 629,
   "metadata": {},
   "outputs": [
    {
     "data": {
      "text/plain": [
       "(274, 9)"
      ]
     },
     "execution_count": 629,
     "metadata": {},
     "output_type": "execute_result"
    }
   ],
   "source": [
    "df = create_lagged_features(merged_df.copy(), optimal_lag)\n",
    "df.fillna(method='bfill',inplace=True)\n",
    "df.shape\n"
   ]
  },
  {
   "cell_type": "code",
   "execution_count": 630,
   "metadata": {},
   "outputs": [
    {
     "data": {
      "text/plain": [
       "C_TotalSales    0\n",
       "PRCP            0\n",
       "TMIN            0\n",
       "TMAX            0\n",
       "TAVG            0\n",
       "lag_1           0\n",
       "Friday          0\n",
       "Monday          0\n",
       "Saturday        0\n",
       "Sunday          0\n",
       "Thursday        0\n",
       "Tuesday         0\n",
       "Wednesday       0\n",
       "False           0\n",
       "True            0\n",
       "dtype: int64"
      ]
     },
     "execution_count": 630,
     "metadata": {},
     "output_type": "execute_result"
    }
   ],
   "source": [
    "dummies1 = pd.get_dummies(df.day_of_week)\n",
    "dummies2 = pd.get_dummies(df.is_holiday)\n",
    "# Concatenate the dummies to original dataframe\n",
    "df = pd.concat([df, dummies1, dummies2], axis='columns')\n",
    "# drop the values\n",
    "df.drop(['day_of_week','is_holiday','CustomerName'], axis='columns',inplace=True)\n",
    "df.columns = df.columns.astype('str')\n",
    "# Check that variables have same shape for model\n",
    "df.isna().sum()"
   ]
  },
  {
   "attachments": {},
   "cell_type": "markdown",
   "metadata": {},
   "source": [
    "### Use ML"
   ]
  },
  {
   "cell_type": "code",
   "execution_count": 631,
   "metadata": {},
   "outputs": [],
   "source": [
    "train_size = int(len(df) * 0.8)\n",
    "train, test = df[:train_size], df[train_size:]\n"
   ]
  },
  {
   "cell_type": "code",
   "execution_count": 632,
   "metadata": {},
   "outputs": [],
   "source": [
    "X_train = train.drop(['C_TotalSales'], axis=1)\n",
    "y_train = train['C_TotalSales']\n",
    "X_test = test.drop(['C_TotalSales'], axis=1)\n",
    "y_test = test['C_TotalSales']\n"
   ]
  },
  {
   "cell_type": "code",
   "execution_count": 633,
   "metadata": {},
   "outputs": [
    {
     "data": {
      "text/html": [
       "<style>#sk-container-id-3 {color: black;background-color: white;}#sk-container-id-3 pre{padding: 0;}#sk-container-id-3 div.sk-toggleable {background-color: white;}#sk-container-id-3 label.sk-toggleable__label {cursor: pointer;display: block;width: 100%;margin-bottom: 0;padding: 0.3em;box-sizing: border-box;text-align: center;}#sk-container-id-3 label.sk-toggleable__label-arrow:before {content: \"▸\";float: left;margin-right: 0.25em;color: #696969;}#sk-container-id-3 label.sk-toggleable__label-arrow:hover:before {color: black;}#sk-container-id-3 div.sk-estimator:hover label.sk-toggleable__label-arrow:before {color: black;}#sk-container-id-3 div.sk-toggleable__content {max-height: 0;max-width: 0;overflow: hidden;text-align: left;background-color: #f0f8ff;}#sk-container-id-3 div.sk-toggleable__content pre {margin: 0.2em;color: black;border-radius: 0.25em;background-color: #f0f8ff;}#sk-container-id-3 input.sk-toggleable__control:checked~div.sk-toggleable__content {max-height: 200px;max-width: 100%;overflow: auto;}#sk-container-id-3 input.sk-toggleable__control:checked~label.sk-toggleable__label-arrow:before {content: \"▾\";}#sk-container-id-3 div.sk-estimator input.sk-toggleable__control:checked~label.sk-toggleable__label {background-color: #d4ebff;}#sk-container-id-3 div.sk-label input.sk-toggleable__control:checked~label.sk-toggleable__label {background-color: #d4ebff;}#sk-container-id-3 input.sk-hidden--visually {border: 0;clip: rect(1px 1px 1px 1px);clip: rect(1px, 1px, 1px, 1px);height: 1px;margin: -1px;overflow: hidden;padding: 0;position: absolute;width: 1px;}#sk-container-id-3 div.sk-estimator {font-family: monospace;background-color: #f0f8ff;border: 1px dotted black;border-radius: 0.25em;box-sizing: border-box;margin-bottom: 0.5em;}#sk-container-id-3 div.sk-estimator:hover {background-color: #d4ebff;}#sk-container-id-3 div.sk-parallel-item::after {content: \"\";width: 100%;border-bottom: 1px solid gray;flex-grow: 1;}#sk-container-id-3 div.sk-label:hover label.sk-toggleable__label {background-color: #d4ebff;}#sk-container-id-3 div.sk-serial::before {content: \"\";position: absolute;border-left: 1px solid gray;box-sizing: border-box;top: 0;bottom: 0;left: 50%;z-index: 0;}#sk-container-id-3 div.sk-serial {display: flex;flex-direction: column;align-items: center;background-color: white;padding-right: 0.2em;padding-left: 0.2em;position: relative;}#sk-container-id-3 div.sk-item {position: relative;z-index: 1;}#sk-container-id-3 div.sk-parallel {display: flex;align-items: stretch;justify-content: center;background-color: white;position: relative;}#sk-container-id-3 div.sk-item::before, #sk-container-id-3 div.sk-parallel-item::before {content: \"\";position: absolute;border-left: 1px solid gray;box-sizing: border-box;top: 0;bottom: 0;left: 50%;z-index: -1;}#sk-container-id-3 div.sk-parallel-item {display: flex;flex-direction: column;z-index: 1;position: relative;background-color: white;}#sk-container-id-3 div.sk-parallel-item:first-child::after {align-self: flex-end;width: 50%;}#sk-container-id-3 div.sk-parallel-item:last-child::after {align-self: flex-start;width: 50%;}#sk-container-id-3 div.sk-parallel-item:only-child::after {width: 0;}#sk-container-id-3 div.sk-dashed-wrapped {border: 1px dashed gray;margin: 0 0.4em 0.5em 0.4em;box-sizing: border-box;padding-bottom: 0.4em;background-color: white;}#sk-container-id-3 div.sk-label label {font-family: monospace;font-weight: bold;display: inline-block;line-height: 1.2em;}#sk-container-id-3 div.sk-label-container {text-align: center;}#sk-container-id-3 div.sk-container {/* jupyter's `normalize.less` sets `[hidden] { display: none; }` but bootstrap.min.css set `[hidden] { display: none !important; }` so we also need the `!important` here to be able to override the default hidden behavior on the sphinx rendered scikit-learn.org. See: https://github.com/scikit-learn/scikit-learn/issues/21755 */display: inline-block !important;position: relative;}#sk-container-id-3 div.sk-text-repr-fallback {display: none;}</style><div id=\"sk-container-id-3\" class=\"sk-top-container\"><div class=\"sk-text-repr-fallback\"><pre>RandomForestRegressor(random_state=42)</pre><b>In a Jupyter environment, please rerun this cell to show the HTML representation or trust the notebook. <br />On GitHub, the HTML representation is unable to render, please try loading this page with nbviewer.org.</b></div><div class=\"sk-container\" hidden><div class=\"sk-item\"><div class=\"sk-estimator sk-toggleable\"><input class=\"sk-toggleable__control sk-hidden--visually\" id=\"sk-estimator-id-3\" type=\"checkbox\" checked><label for=\"sk-estimator-id-3\" class=\"sk-toggleable__label sk-toggleable__label-arrow\">RandomForestRegressor</label><div class=\"sk-toggleable__content\"><pre>RandomForestRegressor(random_state=42)</pre></div></div></div></div></div>"
      ],
      "text/plain": [
       "RandomForestRegressor(random_state=42)"
      ]
     },
     "execution_count": 633,
     "metadata": {},
     "output_type": "execute_result"
    }
   ],
   "source": [
    "from sklearn.ensemble import RandomForestRegressor\n",
    "\n",
    "model = RandomForestRegressor(n_estimators=100, random_state=42)\n",
    "model.fit(X_train, y_train)\n"
   ]
  },
  {
   "cell_type": "code",
   "execution_count": 635,
   "metadata": {},
   "outputs": [],
   "source": [
    "\n",
    "feature_importances = model.feature_importances_\n",
    "sorted_idx = np.argsort(feature_importances)[::-1]\n",
    "\n",
    "# Keep the top k important features\n",
    "k = len(X_train.columns)\n",
    "top_k_features = sorted_idx[:k]\n",
    "X_train_selected = X_train.iloc[:, top_k_features]\n",
    "X_test_selected = X_test.iloc[:, top_k_features]\n"
   ]
  },
  {
   "cell_type": "code",
   "execution_count": 626,
   "metadata": {},
   "outputs": [
    {
     "data": {
      "text/plain": [
       "14"
      ]
     },
     "execution_count": 626,
     "metadata": {},
     "output_type": "execute_result"
    }
   ],
   "source": [
    "len(X_train.columns)"
   ]
  },
  {
   "cell_type": "code",
   "execution_count": 653,
   "metadata": {},
   "outputs": [],
   "source": [
    "#(feature_importances >= 0.09)\n",
    "importance = dict(zip(X_train.columns,feature_importances))\n",
    "filtered_dict = {key: value for key, value in importance.items() if value > 0.09}"
   ]
  },
  {
   "cell_type": "code",
   "execution_count": 654,
   "metadata": {},
   "outputs": [],
   "source": [
    "model_captured = sum(list(filtered_dict.values()))"
   ]
  },
  {
   "cell_type": "code",
   "execution_count": 655,
   "metadata": {},
   "outputs": [
    {
     "data": {
      "image/png": "[encoded data removed]",
      "text/plain": [
       "<Figure size 640x480 with 1 Axes>"
      ]
     },
     "metadata": {},
     "output_type": "display_data"
    }
   ],
   "source": [
    "\n",
    "# Create a bar plot\n",
    "plt.bar(filtered_dict.keys(), filtered_dict.values())\n",
    "plt.title('Feature_Importance: ' + str(model_captured) + ' Captured')\n",
    "# Show the plot\n",
    "plt.show()\n"
   ]
  },
  {
   "cell_type": "code",
   "execution_count": 670,
   "metadata": {},
   "outputs": [
    {
     "data": {
      "text/html": [
       "<div>\n",
       "<style scoped>\n",
       "    .dataframe tbody tr th:only-of-type {\n",
       "        vertical-align: middle;\n",
       "    }\n",
       "\n",
       "    .dataframe tbody tr th {\n",
       "        vertical-align: top;\n",
       "    }\n",
       "\n",
       "    .dataframe thead th {\n",
       "        text-align: right;\n",
       "    }\n",
       "</style>\n",
       "<table border=\"1\" class=\"dataframe\">\n",
       "  <thead>\n",
       "    <tr style=\"text-align: right;\">\n",
       "      <th></th>\n",
       "      <th>PRCP</th>\n",
       "      <th>TMIN</th>\n",
       "      <th>TMAX</th>\n",
       "      <th>TAVG</th>\n",
       "      <th>lag_1</th>\n",
       "      <th>Friday</th>\n",
       "      <th>Monday</th>\n",
       "      <th>Saturday</th>\n",
       "      <th>Sunday</th>\n",
       "      <th>Thursday</th>\n",
       "      <th>Tuesday</th>\n",
       "      <th>Wednesday</th>\n",
       "      <th>False</th>\n",
       "      <th>True</th>\n",
       "    </tr>\n",
       "    <tr>\n",
       "      <th>SalesDate</th>\n",
       "      <th></th>\n",
       "      <th></th>\n",
       "      <th></th>\n",
       "      <th></th>\n",
       "      <th></th>\n",
       "      <th></th>\n",
       "      <th></th>\n",
       "      <th></th>\n",
       "      <th></th>\n",
       "      <th></th>\n",
       "      <th></th>\n",
       "      <th></th>\n",
       "      <th></th>\n",
       "      <th></th>\n",
       "    </tr>\n",
       "  </thead>\n",
       "  <tbody>\n",
       "    <tr>\n",
       "      <th>2023-01-06</th>\n",
       "      <td>9.4</td>\n",
       "      <td>8.9</td>\n",
       "      <td>16.1</td>\n",
       "      <td>12.50</td>\n",
       "      <td>3891.94</td>\n",
       "      <td>1</td>\n",
       "      <td>0</td>\n",
       "      <td>0</td>\n",
       "      <td>0</td>\n",
       "      <td>0</td>\n",
       "      <td>0</td>\n",
       "      <td>0</td>\n",
       "      <td>0</td>\n",
       "      <td>1</td>\n",
       "    </tr>\n",
       "    <tr>\n",
       "      <th>2023-01-07</th>\n",
       "      <td>0.3</td>\n",
       "      <td>10.6</td>\n",
       "      <td>17.2</td>\n",
       "      <td>13.90</td>\n",
       "      <td>6531.73</td>\n",
       "      <td>0</td>\n",
       "      <td>0</td>\n",
       "      <td>1</td>\n",
       "      <td>0</td>\n",
       "      <td>0</td>\n",
       "      <td>0</td>\n",
       "      <td>0</td>\n",
       "      <td>1</td>\n",
       "      <td>0</td>\n",
       "    </tr>\n",
       "    <tr>\n",
       "      <th>2023-01-08</th>\n",
       "      <td>15.0</td>\n",
       "      <td>10.0</td>\n",
       "      <td>16.7</td>\n",
       "      <td>13.35</td>\n",
       "      <td>4538.44</td>\n",
       "      <td>0</td>\n",
       "      <td>0</td>\n",
       "      <td>0</td>\n",
       "      <td>1</td>\n",
       "      <td>0</td>\n",
       "      <td>0</td>\n",
       "      <td>0</td>\n",
       "      <td>1</td>\n",
       "      <td>0</td>\n",
       "    </tr>\n",
       "    <tr>\n",
       "      <th>2023-01-09</th>\n",
       "      <td>30.0</td>\n",
       "      <td>10.0</td>\n",
       "      <td>15.6</td>\n",
       "      <td>12.80</td>\n",
       "      <td>6189.15</td>\n",
       "      <td>0</td>\n",
       "      <td>1</td>\n",
       "      <td>0</td>\n",
       "      <td>0</td>\n",
       "      <td>0</td>\n",
       "      <td>0</td>\n",
       "      <td>0</td>\n",
       "      <td>0</td>\n",
       "      <td>1</td>\n",
       "    </tr>\n",
       "    <tr>\n",
       "      <th>2023-01-10</th>\n",
       "      <td>11.9</td>\n",
       "      <td>9.4</td>\n",
       "      <td>14.4</td>\n",
       "      <td>11.90</td>\n",
       "      <td>1727.22</td>\n",
       "      <td>0</td>\n",
       "      <td>0</td>\n",
       "      <td>0</td>\n",
       "      <td>0</td>\n",
       "      <td>0</td>\n",
       "      <td>1</td>\n",
       "      <td>0</td>\n",
       "      <td>0</td>\n",
       "      <td>1</td>\n",
       "    </tr>\n",
       "    <tr>\n",
       "      <th>2023-01-11</th>\n",
       "      <td>8.4</td>\n",
       "      <td>10.6</td>\n",
       "      <td>14.4</td>\n",
       "      <td>12.50</td>\n",
       "      <td>1458.30</td>\n",
       "      <td>0</td>\n",
       "      <td>0</td>\n",
       "      <td>0</td>\n",
       "      <td>0</td>\n",
       "      <td>0</td>\n",
       "      <td>0</td>\n",
       "      <td>1</td>\n",
       "      <td>0</td>\n",
       "      <td>1</td>\n",
       "    </tr>\n",
       "    <tr>\n",
       "      <th>2023-01-12</th>\n",
       "      <td>1.5</td>\n",
       "      <td>12.2</td>\n",
       "      <td>20.0</td>\n",
       "      <td>16.10</td>\n",
       "      <td>3574.62</td>\n",
       "      <td>0</td>\n",
       "      <td>0</td>\n",
       "      <td>0</td>\n",
       "      <td>0</td>\n",
       "      <td>1</td>\n",
       "      <td>0</td>\n",
       "      <td>0</td>\n",
       "      <td>0</td>\n",
       "      <td>1</td>\n",
       "    </tr>\n",
       "    <tr>\n",
       "      <th>2023-01-13</th>\n",
       "      <td>0.3</td>\n",
       "      <td>12.2</td>\n",
       "      <td>15.6</td>\n",
       "      <td>13.90</td>\n",
       "      <td>1576.47</td>\n",
       "      <td>1</td>\n",
       "      <td>0</td>\n",
       "      <td>0</td>\n",
       "      <td>0</td>\n",
       "      <td>0</td>\n",
       "      <td>0</td>\n",
       "      <td>0</td>\n",
       "      <td>0</td>\n",
       "      <td>1</td>\n",
       "    </tr>\n",
       "    <tr>\n",
       "      <th>2023-01-14</th>\n",
       "      <td>30.2</td>\n",
       "      <td>9.4</td>\n",
       "      <td>15.6</td>\n",
       "      <td>12.50</td>\n",
       "      <td>10740.93</td>\n",
       "      <td>0</td>\n",
       "      <td>0</td>\n",
       "      <td>1</td>\n",
       "      <td>0</td>\n",
       "      <td>0</td>\n",
       "      <td>0</td>\n",
       "      <td>0</td>\n",
       "      <td>1</td>\n",
       "      <td>0</td>\n",
       "    </tr>\n",
       "    <tr>\n",
       "      <th>2023-01-15</th>\n",
       "      <td>16.5</td>\n",
       "      <td>7.8</td>\n",
       "      <td>11.7</td>\n",
       "      <td>9.75</td>\n",
       "      <td>7740.33</td>\n",
       "      <td>0</td>\n",
       "      <td>0</td>\n",
       "      <td>0</td>\n",
       "      <td>1</td>\n",
       "      <td>0</td>\n",
       "      <td>0</td>\n",
       "      <td>0</td>\n",
       "      <td>1</td>\n",
       "      <td>0</td>\n",
       "    </tr>\n",
       "    <tr>\n",
       "      <th>2023-01-16</th>\n",
       "      <td>38.6</td>\n",
       "      <td>7.2</td>\n",
       "      <td>12.8</td>\n",
       "      <td>10.00</td>\n",
       "      <td>3506.42</td>\n",
       "      <td>0</td>\n",
       "      <td>1</td>\n",
       "      <td>0</td>\n",
       "      <td>0</td>\n",
       "      <td>0</td>\n",
       "      <td>0</td>\n",
       "      <td>0</td>\n",
       "      <td>1</td>\n",
       "      <td>0</td>\n",
       "    </tr>\n",
       "    <tr>\n",
       "      <th>2023-01-17</th>\n",
       "      <td>0.5</td>\n",
       "      <td>3.3</td>\n",
       "      <td>13.9</td>\n",
       "      <td>8.60</td>\n",
       "      <td>3750.53</td>\n",
       "      <td>0</td>\n",
       "      <td>0</td>\n",
       "      <td>0</td>\n",
       "      <td>0</td>\n",
       "      <td>0</td>\n",
       "      <td>1</td>\n",
       "      <td>0</td>\n",
       "      <td>0</td>\n",
       "      <td>1</td>\n",
       "    </tr>\n",
       "    <tr>\n",
       "      <th>2023-01-18</th>\n",
       "      <td>0.0</td>\n",
       "      <td>3.3</td>\n",
       "      <td>14.4</td>\n",
       "      <td>8.85</td>\n",
       "      <td>3127.56</td>\n",
       "      <td>0</td>\n",
       "      <td>0</td>\n",
       "      <td>0</td>\n",
       "      <td>0</td>\n",
       "      <td>0</td>\n",
       "      <td>0</td>\n",
       "      <td>1</td>\n",
       "      <td>0</td>\n",
       "      <td>1</td>\n",
       "    </tr>\n",
       "    <tr>\n",
       "      <th>2023-01-19</th>\n",
       "      <td>1.3</td>\n",
       "      <td>5.0</td>\n",
       "      <td>12.2</td>\n",
       "      <td>8.60</td>\n",
       "      <td>2292.13</td>\n",
       "      <td>0</td>\n",
       "      <td>0</td>\n",
       "      <td>0</td>\n",
       "      <td>0</td>\n",
       "      <td>1</td>\n",
       "      <td>0</td>\n",
       "      <td>0</td>\n",
       "      <td>0</td>\n",
       "      <td>1</td>\n",
       "    </tr>\n",
       "    <tr>\n",
       "      <th>2023-01-20</th>\n",
       "      <td>0.3</td>\n",
       "      <td>3.3</td>\n",
       "      <td>12.8</td>\n",
       "      <td>8.05</td>\n",
       "      <td>1988.74</td>\n",
       "      <td>1</td>\n",
       "      <td>0</td>\n",
       "      <td>0</td>\n",
       "      <td>0</td>\n",
       "      <td>0</td>\n",
       "      <td>0</td>\n",
       "      <td>0</td>\n",
       "      <td>0</td>\n",
       "      <td>1</td>\n",
       "    </tr>\n",
       "    <tr>\n",
       "      <th>2023-01-21</th>\n",
       "      <td>0.0</td>\n",
       "      <td>0.6</td>\n",
       "      <td>13.9</td>\n",
       "      <td>7.25</td>\n",
       "      <td>27211.25</td>\n",
       "      <td>0</td>\n",
       "      <td>0</td>\n",
       "      <td>1</td>\n",
       "      <td>0</td>\n",
       "      <td>0</td>\n",
       "      <td>0</td>\n",
       "      <td>0</td>\n",
       "      <td>1</td>\n",
       "      <td>0</td>\n",
       "    </tr>\n",
       "    <tr>\n",
       "      <th>2023-01-22</th>\n",
       "      <td>0.0</td>\n",
       "      <td>3.3</td>\n",
       "      <td>15.6</td>\n",
       "      <td>9.45</td>\n",
       "      <td>2202.13</td>\n",
       "      <td>0</td>\n",
       "      <td>0</td>\n",
       "      <td>0</td>\n",
       "      <td>1</td>\n",
       "      <td>0</td>\n",
       "      <td>0</td>\n",
       "      <td>0</td>\n",
       "      <td>1</td>\n",
       "      <td>0</td>\n",
       "    </tr>\n",
       "    <tr>\n",
       "      <th>2023-01-23</th>\n",
       "      <td>0.0</td>\n",
       "      <td>6.7</td>\n",
       "      <td>16.1</td>\n",
       "      <td>11.40</td>\n",
       "      <td>3944.86</td>\n",
       "      <td>0</td>\n",
       "      <td>1</td>\n",
       "      <td>0</td>\n",
       "      <td>0</td>\n",
       "      <td>0</td>\n",
       "      <td>0</td>\n",
       "      <td>0</td>\n",
       "      <td>0</td>\n",
       "      <td>1</td>\n",
       "    </tr>\n",
       "    <tr>\n",
       "      <th>2023-01-24</th>\n",
       "      <td>0.0</td>\n",
       "      <td>2.2</td>\n",
       "      <td>17.8</td>\n",
       "      <td>10.00</td>\n",
       "      <td>3246.38</td>\n",
       "      <td>0</td>\n",
       "      <td>0</td>\n",
       "      <td>0</td>\n",
       "      <td>0</td>\n",
       "      <td>0</td>\n",
       "      <td>1</td>\n",
       "      <td>0</td>\n",
       "      <td>0</td>\n",
       "      <td>1</td>\n",
       "    </tr>\n",
       "    <tr>\n",
       "      <th>2023-01-25</th>\n",
       "      <td>0.0</td>\n",
       "      <td>3.9</td>\n",
       "      <td>20.0</td>\n",
       "      <td>11.95</td>\n",
       "      <td>2038.35</td>\n",
       "      <td>0</td>\n",
       "      <td>0</td>\n",
       "      <td>0</td>\n",
       "      <td>0</td>\n",
       "      <td>0</td>\n",
       "      <td>0</td>\n",
       "      <td>1</td>\n",
       "      <td>0</td>\n",
       "      <td>1</td>\n",
       "    </tr>\n",
       "    <tr>\n",
       "      <th>2023-01-26</th>\n",
       "      <td>0.0</td>\n",
       "      <td>5.6</td>\n",
       "      <td>19.4</td>\n",
       "      <td>12.50</td>\n",
       "      <td>4395.27</td>\n",
       "      <td>0</td>\n",
       "      <td>0</td>\n",
       "      <td>0</td>\n",
       "      <td>0</td>\n",
       "      <td>1</td>\n",
       "      <td>0</td>\n",
       "      <td>0</td>\n",
       "      <td>0</td>\n",
       "      <td>1</td>\n",
       "    </tr>\n",
       "    <tr>\n",
       "      <th>2023-01-27</th>\n",
       "      <td>0.0</td>\n",
       "      <td>3.9</td>\n",
       "      <td>17.2</td>\n",
       "      <td>10.55</td>\n",
       "      <td>2378.14</td>\n",
       "      <td>1</td>\n",
       "      <td>0</td>\n",
       "      <td>0</td>\n",
       "      <td>0</td>\n",
       "      <td>0</td>\n",
       "      <td>0</td>\n",
       "      <td>0</td>\n",
       "      <td>0</td>\n",
       "      <td>1</td>\n",
       "    </tr>\n",
       "    <tr>\n",
       "      <th>2023-01-28</th>\n",
       "      <td>0.0</td>\n",
       "      <td>6.7</td>\n",
       "      <td>16.7</td>\n",
       "      <td>11.70</td>\n",
       "      <td>12097.69</td>\n",
       "      <td>0</td>\n",
       "      <td>0</td>\n",
       "      <td>1</td>\n",
       "      <td>0</td>\n",
       "      <td>0</td>\n",
       "      <td>0</td>\n",
       "      <td>0</td>\n",
       "      <td>1</td>\n",
       "      <td>0</td>\n",
       "    </tr>\n",
       "    <tr>\n",
       "      <th>2023-01-29</th>\n",
       "      <td>0.0</td>\n",
       "      <td>6.7</td>\n",
       "      <td>12.2</td>\n",
       "      <td>9.45</td>\n",
       "      <td>6794.47</td>\n",
       "      <td>0</td>\n",
       "      <td>0</td>\n",
       "      <td>0</td>\n",
       "      <td>1</td>\n",
       "      <td>0</td>\n",
       "      <td>0</td>\n",
       "      <td>0</td>\n",
       "      <td>1</td>\n",
       "      <td>0</td>\n",
       "    </tr>\n",
       "    <tr>\n",
       "      <th>2023-01-30</th>\n",
       "      <td>0.0</td>\n",
       "      <td>3.3</td>\n",
       "      <td>13.9</td>\n",
       "      <td>8.60</td>\n",
       "      <td>5057.93</td>\n",
       "      <td>0</td>\n",
       "      <td>1</td>\n",
       "      <td>0</td>\n",
       "      <td>0</td>\n",
       "      <td>0</td>\n",
       "      <td>0</td>\n",
       "      <td>0</td>\n",
       "      <td>0</td>\n",
       "      <td>1</td>\n",
       "    </tr>\n",
       "    <tr>\n",
       "      <th>2023-01-31</th>\n",
       "      <td>0.0</td>\n",
       "      <td>1.1</td>\n",
       "      <td>15.6</td>\n",
       "      <td>8.35</td>\n",
       "      <td>1536.10</td>\n",
       "      <td>0</td>\n",
       "      <td>0</td>\n",
       "      <td>0</td>\n",
       "      <td>0</td>\n",
       "      <td>0</td>\n",
       "      <td>1</td>\n",
       "      <td>0</td>\n",
       "      <td>0</td>\n",
       "      <td>1</td>\n",
       "    </tr>\n",
       "    <tr>\n",
       "      <th>2023-02-01</th>\n",
       "      <td>0.0</td>\n",
       "      <td>0.6</td>\n",
       "      <td>16.1</td>\n",
       "      <td>8.35</td>\n",
       "      <td>5594.06</td>\n",
       "      <td>0</td>\n",
       "      <td>0</td>\n",
       "      <td>0</td>\n",
       "      <td>0</td>\n",
       "      <td>0</td>\n",
       "      <td>0</td>\n",
       "      <td>1</td>\n",
       "      <td>0</td>\n",
       "      <td>1</td>\n",
       "    </tr>\n",
       "    <tr>\n",
       "      <th>2023-02-02</th>\n",
       "      <td>0.0</td>\n",
       "      <td>2.8</td>\n",
       "      <td>18.3</td>\n",
       "      <td>10.55</td>\n",
       "      <td>3994.98</td>\n",
       "      <td>0</td>\n",
       "      <td>0</td>\n",
       "      <td>0</td>\n",
       "      <td>0</td>\n",
       "      <td>1</td>\n",
       "      <td>0</td>\n",
       "      <td>0</td>\n",
       "      <td>0</td>\n",
       "      <td>1</td>\n",
       "    </tr>\n",
       "    <tr>\n",
       "      <th>2023-02-03</th>\n",
       "      <td>1.5</td>\n",
       "      <td>8.9</td>\n",
       "      <td>14.4</td>\n",
       "      <td>11.65</td>\n",
       "      <td>2816.85</td>\n",
       "      <td>1</td>\n",
       "      <td>0</td>\n",
       "      <td>0</td>\n",
       "      <td>0</td>\n",
       "      <td>0</td>\n",
       "      <td>0</td>\n",
       "      <td>0</td>\n",
       "      <td>0</td>\n",
       "      <td>1</td>\n",
       "    </tr>\n",
       "    <tr>\n",
       "      <th>2023-02-04</th>\n",
       "      <td>3.0</td>\n",
       "      <td>8.9</td>\n",
       "      <td>18.3</td>\n",
       "      <td>13.60</td>\n",
       "      <td>4814.34</td>\n",
       "      <td>0</td>\n",
       "      <td>0</td>\n",
       "      <td>1</td>\n",
       "      <td>0</td>\n",
       "      <td>0</td>\n",
       "      <td>0</td>\n",
       "      <td>0</td>\n",
       "      <td>1</td>\n",
       "      <td>0</td>\n",
       "    </tr>\n",
       "    <tr>\n",
       "      <th>2023-02-05</th>\n",
       "      <td>10.4</td>\n",
       "      <td>8.3</td>\n",
       "      <td>13.9</td>\n",
       "      <td>11.10</td>\n",
       "      <td>7903.62</td>\n",
       "      <td>0</td>\n",
       "      <td>0</td>\n",
       "      <td>0</td>\n",
       "      <td>1</td>\n",
       "      <td>0</td>\n",
       "      <td>0</td>\n",
       "      <td>0</td>\n",
       "      <td>1</td>\n",
       "      <td>0</td>\n",
       "    </tr>\n",
       "    <tr>\n",
       "      <th>2023-02-06</th>\n",
       "      <td>2.3</td>\n",
       "      <td>4.4</td>\n",
       "      <td>15.6</td>\n",
       "      <td>10.00</td>\n",
       "      <td>6335.49</td>\n",
       "      <td>0</td>\n",
       "      <td>1</td>\n",
       "      <td>0</td>\n",
       "      <td>0</td>\n",
       "      <td>0</td>\n",
       "      <td>0</td>\n",
       "      <td>0</td>\n",
       "      <td>0</td>\n",
       "      <td>1</td>\n",
       "    </tr>\n",
       "    <tr>\n",
       "      <th>2023-02-07</th>\n",
       "      <td>0.0</td>\n",
       "      <td>3.3</td>\n",
       "      <td>16.1</td>\n",
       "      <td>9.70</td>\n",
       "      <td>2101.09</td>\n",
       "      <td>0</td>\n",
       "      <td>0</td>\n",
       "      <td>0</td>\n",
       "      <td>0</td>\n",
       "      <td>0</td>\n",
       "      <td>1</td>\n",
       "      <td>0</td>\n",
       "      <td>0</td>\n",
       "      <td>1</td>\n",
       "    </tr>\n",
       "    <tr>\n",
       "      <th>2023-02-08</th>\n",
       "      <td>0.0</td>\n",
       "      <td>3.9</td>\n",
       "      <td>17.8</td>\n",
       "      <td>10.85</td>\n",
       "      <td>3898.66</td>\n",
       "      <td>0</td>\n",
       "      <td>0</td>\n",
       "      <td>0</td>\n",
       "      <td>0</td>\n",
       "      <td>0</td>\n",
       "      <td>0</td>\n",
       "      <td>1</td>\n",
       "      <td>0</td>\n",
       "      <td>1</td>\n",
       "    </tr>\n",
       "    <tr>\n",
       "      <th>2023-02-09</th>\n",
       "      <td>0.0</td>\n",
       "      <td>5.0</td>\n",
       "      <td>20.0</td>\n",
       "      <td>12.50</td>\n",
       "      <td>2621.83</td>\n",
       "      <td>0</td>\n",
       "      <td>0</td>\n",
       "      <td>0</td>\n",
       "      <td>0</td>\n",
       "      <td>1</td>\n",
       "      <td>0</td>\n",
       "      <td>0</td>\n",
       "      <td>0</td>\n",
       "      <td>1</td>\n",
       "    </tr>\n",
       "    <tr>\n",
       "      <th>2023-02-10</th>\n",
       "      <td>0.0</td>\n",
       "      <td>4.4</td>\n",
       "      <td>16.1</td>\n",
       "      <td>10.25</td>\n",
       "      <td>2573.13</td>\n",
       "      <td>1</td>\n",
       "      <td>0</td>\n",
       "      <td>0</td>\n",
       "      <td>0</td>\n",
       "      <td>0</td>\n",
       "      <td>0</td>\n",
       "      <td>0</td>\n",
       "      <td>0</td>\n",
       "      <td>1</td>\n",
       "    </tr>\n",
       "    <tr>\n",
       "      <th>2023-02-11</th>\n",
       "      <td>1.8</td>\n",
       "      <td>6.1</td>\n",
       "      <td>12.8</td>\n",
       "      <td>9.45</td>\n",
       "      <td>8547.49</td>\n",
       "      <td>0</td>\n",
       "      <td>0</td>\n",
       "      <td>1</td>\n",
       "      <td>0</td>\n",
       "      <td>0</td>\n",
       "      <td>0</td>\n",
       "      <td>0</td>\n",
       "      <td>1</td>\n",
       "      <td>0</td>\n",
       "    </tr>\n",
       "    <tr>\n",
       "      <th>2023-02-12</th>\n",
       "      <td>0.5</td>\n",
       "      <td>2.8</td>\n",
       "      <td>18.3</td>\n",
       "      <td>10.55</td>\n",
       "      <td>6235.69</td>\n",
       "      <td>0</td>\n",
       "      <td>0</td>\n",
       "      <td>0</td>\n",
       "      <td>1</td>\n",
       "      <td>0</td>\n",
       "      <td>0</td>\n",
       "      <td>0</td>\n",
       "      <td>1</td>\n",
       "      <td>0</td>\n",
       "    </tr>\n",
       "    <tr>\n",
       "      <th>2023-02-13</th>\n",
       "      <td>0.0</td>\n",
       "      <td>4.4</td>\n",
       "      <td>16.7</td>\n",
       "      <td>10.55</td>\n",
       "      <td>6589.46</td>\n",
       "      <td>0</td>\n",
       "      <td>1</td>\n",
       "      <td>0</td>\n",
       "      <td>0</td>\n",
       "      <td>0</td>\n",
       "      <td>0</td>\n",
       "      <td>0</td>\n",
       "      <td>0</td>\n",
       "      <td>1</td>\n",
       "    </tr>\n",
       "    <tr>\n",
       "      <th>2023-02-14</th>\n",
       "      <td>0.0</td>\n",
       "      <td>4.4</td>\n",
       "      <td>11.7</td>\n",
       "      <td>8.05</td>\n",
       "      <td>4601.17</td>\n",
       "      <td>0</td>\n",
       "      <td>0</td>\n",
       "      <td>0</td>\n",
       "      <td>0</td>\n",
       "      <td>0</td>\n",
       "      <td>1</td>\n",
       "      <td>0</td>\n",
       "      <td>0</td>\n",
       "      <td>1</td>\n",
       "    </tr>\n",
       "    <tr>\n",
       "      <th>2023-02-15</th>\n",
       "      <td>0.3</td>\n",
       "      <td>3.3</td>\n",
       "      <td>13.9</td>\n",
       "      <td>8.60</td>\n",
       "      <td>6746.16</td>\n",
       "      <td>0</td>\n",
       "      <td>0</td>\n",
       "      <td>0</td>\n",
       "      <td>0</td>\n",
       "      <td>0</td>\n",
       "      <td>0</td>\n",
       "      <td>1</td>\n",
       "      <td>0</td>\n",
       "      <td>1</td>\n",
       "    </tr>\n",
       "    <tr>\n",
       "      <th>2023-02-16</th>\n",
       "      <td>0.0</td>\n",
       "      <td>2.2</td>\n",
       "      <td>16.1</td>\n",
       "      <td>9.15</td>\n",
       "      <td>2981.00</td>\n",
       "      <td>0</td>\n",
       "      <td>0</td>\n",
       "      <td>0</td>\n",
       "      <td>0</td>\n",
       "      <td>1</td>\n",
       "      <td>0</td>\n",
       "      <td>0</td>\n",
       "      <td>0</td>\n",
       "      <td>1</td>\n",
       "    </tr>\n",
       "    <tr>\n",
       "      <th>2023-02-17</th>\n",
       "      <td>0.0</td>\n",
       "      <td>2.2</td>\n",
       "      <td>17.2</td>\n",
       "      <td>9.70</td>\n",
       "      <td>2027.89</td>\n",
       "      <td>1</td>\n",
       "      <td>0</td>\n",
       "      <td>0</td>\n",
       "      <td>0</td>\n",
       "      <td>0</td>\n",
       "      <td>0</td>\n",
       "      <td>0</td>\n",
       "      <td>0</td>\n",
       "      <td>1</td>\n",
       "    </tr>\n",
       "    <tr>\n",
       "      <th>2023-02-18</th>\n",
       "      <td>0.0</td>\n",
       "      <td>0.6</td>\n",
       "      <td>18.9</td>\n",
       "      <td>9.75</td>\n",
       "      <td>9262.20</td>\n",
       "      <td>0</td>\n",
       "      <td>0</td>\n",
       "      <td>1</td>\n",
       "      <td>0</td>\n",
       "      <td>0</td>\n",
       "      <td>0</td>\n",
       "      <td>0</td>\n",
       "      <td>1</td>\n",
       "      <td>0</td>\n",
       "    </tr>\n",
       "    <tr>\n",
       "      <th>2023-02-19</th>\n",
       "      <td>0.0</td>\n",
       "      <td>2.8</td>\n",
       "      <td>19.4</td>\n",
       "      <td>11.10</td>\n",
       "      <td>6672.85</td>\n",
       "      <td>0</td>\n",
       "      <td>0</td>\n",
       "      <td>0</td>\n",
       "      <td>1</td>\n",
       "      <td>0</td>\n",
       "      <td>0</td>\n",
       "      <td>0</td>\n",
       "      <td>1</td>\n",
       "      <td>0</td>\n",
       "    </tr>\n",
       "    <tr>\n",
       "      <th>2023-02-20</th>\n",
       "      <td>0.0</td>\n",
       "      <td>4.4</td>\n",
       "      <td>20.6</td>\n",
       "      <td>12.50</td>\n",
       "      <td>6739.80</td>\n",
       "      <td>0</td>\n",
       "      <td>1</td>\n",
       "      <td>0</td>\n",
       "      <td>0</td>\n",
       "      <td>0</td>\n",
       "      <td>0</td>\n",
       "      <td>0</td>\n",
       "      <td>1</td>\n",
       "      <td>0</td>\n",
       "    </tr>\n",
       "    <tr>\n",
       "      <th>2023-02-21</th>\n",
       "      <td>0.0</td>\n",
       "      <td>6.7</td>\n",
       "      <td>15.0</td>\n",
       "      <td>10.85</td>\n",
       "      <td>2821.41</td>\n",
       "      <td>0</td>\n",
       "      <td>0</td>\n",
       "      <td>0</td>\n",
       "      <td>0</td>\n",
       "      <td>0</td>\n",
       "      <td>1</td>\n",
       "      <td>0</td>\n",
       "      <td>0</td>\n",
       "      <td>1</td>\n",
       "    </tr>\n",
       "    <tr>\n",
       "      <th>2023-02-22</th>\n",
       "      <td>0.0</td>\n",
       "      <td>4.4</td>\n",
       "      <td>11.1</td>\n",
       "      <td>7.75</td>\n",
       "      <td>2323.81</td>\n",
       "      <td>0</td>\n",
       "      <td>0</td>\n",
       "      <td>0</td>\n",
       "      <td>0</td>\n",
       "      <td>0</td>\n",
       "      <td>0</td>\n",
       "      <td>1</td>\n",
       "      <td>0</td>\n",
       "      <td>1</td>\n",
       "    </tr>\n",
       "    <tr>\n",
       "      <th>2023-02-23</th>\n",
       "      <td>0.3</td>\n",
       "      <td>2.2</td>\n",
       "      <td>10.6</td>\n",
       "      <td>6.40</td>\n",
       "      <td>2127.85</td>\n",
       "      <td>0</td>\n",
       "      <td>0</td>\n",
       "      <td>0</td>\n",
       "      <td>0</td>\n",
       "      <td>1</td>\n",
       "      <td>0</td>\n",
       "      <td>0</td>\n",
       "      <td>0</td>\n",
       "      <td>1</td>\n",
       "    </tr>\n",
       "    <tr>\n",
       "      <th>2023-02-24</th>\n",
       "      <td>25.4</td>\n",
       "      <td>3.3</td>\n",
       "      <td>10.0</td>\n",
       "      <td>6.65</td>\n",
       "      <td>3337.85</td>\n",
       "      <td>1</td>\n",
       "      <td>0</td>\n",
       "      <td>0</td>\n",
       "      <td>0</td>\n",
       "      <td>0</td>\n",
       "      <td>0</td>\n",
       "      <td>0</td>\n",
       "      <td>0</td>\n",
       "      <td>1</td>\n",
       "    </tr>\n",
       "    <tr>\n",
       "      <th>2023-02-25</th>\n",
       "      <td>0.8</td>\n",
       "      <td>3.3</td>\n",
       "      <td>12.2</td>\n",
       "      <td>7.75</td>\n",
       "      <td>12559.93</td>\n",
       "      <td>0</td>\n",
       "      <td>0</td>\n",
       "      <td>1</td>\n",
       "      <td>0</td>\n",
       "      <td>0</td>\n",
       "      <td>0</td>\n",
       "      <td>0</td>\n",
       "      <td>1</td>\n",
       "      <td>0</td>\n",
       "    </tr>\n",
       "    <tr>\n",
       "      <th>2023-02-26</th>\n",
       "      <td>0.0</td>\n",
       "      <td>6.7</td>\n",
       "      <td>11.1</td>\n",
       "      <td>8.90</td>\n",
       "      <td>5957.86</td>\n",
       "      <td>0</td>\n",
       "      <td>0</td>\n",
       "      <td>0</td>\n",
       "      <td>1</td>\n",
       "      <td>0</td>\n",
       "      <td>0</td>\n",
       "      <td>0</td>\n",
       "      <td>1</td>\n",
       "      <td>0</td>\n",
       "    </tr>\n",
       "    <tr>\n",
       "      <th>2023-02-27</th>\n",
       "      <td>5.1</td>\n",
       "      <td>3.3</td>\n",
       "      <td>10.0</td>\n",
       "      <td>6.65</td>\n",
       "      <td>5665.28</td>\n",
       "      <td>0</td>\n",
       "      <td>1</td>\n",
       "      <td>0</td>\n",
       "      <td>0</td>\n",
       "      <td>0</td>\n",
       "      <td>0</td>\n",
       "      <td>0</td>\n",
       "      <td>0</td>\n",
       "      <td>1</td>\n",
       "    </tr>\n",
       "    <tr>\n",
       "      <th>2023-02-28</th>\n",
       "      <td>12.4</td>\n",
       "      <td>5.0</td>\n",
       "      <td>11.7</td>\n",
       "      <td>8.35</td>\n",
       "      <td>2344.98</td>\n",
       "      <td>0</td>\n",
       "      <td>0</td>\n",
       "      <td>0</td>\n",
       "      <td>0</td>\n",
       "      <td>0</td>\n",
       "      <td>1</td>\n",
       "      <td>0</td>\n",
       "      <td>0</td>\n",
       "      <td>1</td>\n",
       "    </tr>\n",
       "    <tr>\n",
       "      <th>2023-03-01</th>\n",
       "      <td>11.9</td>\n",
       "      <td>3.9</td>\n",
       "      <td>12.2</td>\n",
       "      <td>8.05</td>\n",
       "      <td>3340.90</td>\n",
       "      <td>0</td>\n",
       "      <td>0</td>\n",
       "      <td>0</td>\n",
       "      <td>0</td>\n",
       "      <td>0</td>\n",
       "      <td>0</td>\n",
       "      <td>1</td>\n",
       "      <td>0</td>\n",
       "      <td>1</td>\n",
       "    </tr>\n",
       "  </tbody>\n",
       "</table>\n",
       "</div>"
      ],
      "text/plain": [
       "            PRCP  TMIN  TMAX   TAVG     lag_1  Friday  Monday  Saturday  \\\n",
       "SalesDate                                                                 \n",
       "2023-01-06   9.4   8.9  16.1  12.50   3891.94       1       0         0   \n",
       "2023-01-07   0.3  10.6  17.2  13.90   6531.73       0       0         1   \n",
       "2023-01-08  15.0  10.0  16.7  13.35   4538.44       0       0         0   \n",
       "2023-01-09  30.0  10.0  15.6  12.80   6189.15       0       1         0   \n",
       "2023-01-10  11.9   9.4  14.4  11.90   1727.22       0       0         0   \n",
       "2023-01-11   8.4  10.6  14.4  12.50   1458.30       0       0         0   \n",
       "2023-01-12   1.5  12.2  20.0  16.10   3574.62       0       0         0   \n",
       "2023-01-13   0.3  12.2  15.6  13.90   1576.47       1       0         0   \n",
       "2023-01-14  30.2   9.4  15.6  12.50  10740.93       0       0         1   \n",
       "2023-01-15  16.5   7.8  11.7   9.75   7740.33       0       0         0   \n",
       "2023-01-16  38.6   7.2  12.8  10.00   3506.42       0       1         0   \n",
       "2023-01-17   0.5   3.3  13.9   8.60   3750.53       0       0         0   \n",
       "2023-01-18   0.0   3.3  14.4   8.85   3127.56       0       0         0   \n",
       "2023-01-19   1.3   5.0  12.2   8.60   2292.13       0       0         0   \n",
       "2023-01-20   0.3   3.3  12.8   8.05   1988.74       1       0         0   \n",
       "2023-01-21   0.0   0.6  13.9   7.25  27211.25       0       0         1   \n",
       "2023-01-22   0.0   3.3  15.6   9.45   2202.13       0       0         0   \n",
       "2023-01-23   0.0   6.7  16.1  11.40   3944.86       0       1         0   \n",
       "2023-01-24   0.0   2.2  17.8  10.00   3246.38       0       0         0   \n",
       "2023-01-25   0.0   3.9  20.0  11.95   2038.35       0       0         0   \n",
       "2023-01-26   0.0   5.6  19.4  12.50   4395.27       0       0         0   \n",
       "2023-01-27   0.0   3.9  17.2  10.55   2378.14       1       0         0   \n",
       "2023-01-28   0.0   6.7  16.7  11.70  12097.69       0       0         1   \n",
       "2023-01-29   0.0   6.7  12.2   9.45   6794.47       0       0         0   \n",
       "2023-01-30   0.0   3.3  13.9   8.60   5057.93       0       1         0   \n",
       "2023-01-31   0.0   1.1  15.6   8.35   1536.10       0       0         0   \n",
       "2023-02-01   0.0   0.6  16.1   8.35   5594.06       0       0         0   \n",
       "2023-02-02   0.0   2.8  18.3  10.55   3994.98       0       0         0   \n",
       "2023-02-03   1.5   8.9  14.4  11.65   2816.85       1       0         0   \n",
       "2023-02-04   3.0   8.9  18.3  13.60   4814.34       0       0         1   \n",
       "2023-02-05  10.4   8.3  13.9  11.10   7903.62       0       0         0   \n",
       "2023-02-06   2.3   4.4  15.6  10.00   6335.49       0       1         0   \n",
       "2023-02-07   0.0   3.3  16.1   9.70   2101.09       0       0         0   \n",
       "2023-02-08   0.0   3.9  17.8  10.85   3898.66       0       0         0   \n",
       "2023-02-09   0.0   5.0  20.0  12.50   2621.83       0       0         0   \n",
       "2023-02-10   0.0   4.4  16.1  10.25   2573.13       1       0         0   \n",
       "2023-02-11   1.8   6.1  12.8   9.45   8547.49       0       0         1   \n",
       "2023-02-12   0.5   2.8  18.3  10.55   6235.69       0       0         0   \n",
       "2023-02-13   0.0   4.4  16.7  10.55   6589.46       0       1         0   \n",
       "2023-02-14   0.0   4.4  11.7   8.05   4601.17       0       0         0   \n",
       "2023-02-15   0.3   3.3  13.9   8.60   6746.16       0       0         0   \n",
       "2023-02-16   0.0   2.2  16.1   9.15   2981.00       0       0         0   \n",
       "2023-02-17   0.0   2.2  17.2   9.70   2027.89       1       0         0   \n",
       "2023-02-18   0.0   0.6  18.9   9.75   9262.20       0       0         1   \n",
       "2023-02-19   0.0   2.8  19.4  11.10   6672.85       0       0         0   \n",
       "2023-02-20   0.0   4.4  20.6  12.50   6739.80       0       1         0   \n",
       "2023-02-21   0.0   6.7  15.0  10.85   2821.41       0       0         0   \n",
       "2023-02-22   0.0   4.4  11.1   7.75   2323.81       0       0         0   \n",
       "2023-02-23   0.3   2.2  10.6   6.40   2127.85       0       0         0   \n",
       "2023-02-24  25.4   3.3  10.0   6.65   3337.85       1       0         0   \n",
       "2023-02-25   0.8   3.3  12.2   7.75  12559.93       0       0         1   \n",
       "2023-02-26   0.0   6.7  11.1   8.90   5957.86       0       0         0   \n",
       "2023-02-27   5.1   3.3  10.0   6.65   5665.28       0       1         0   \n",
       "2023-02-28  12.4   5.0  11.7   8.35   2344.98       0       0         0   \n",
       "2023-03-01  11.9   3.9  12.2   8.05   3340.90       0       0         0   \n",
       "\n",
       "            Sunday  Thursday  Tuesday  Wednesday  False  True  \n",
       "SalesDate                                                      \n",
       "2023-01-06       0         0        0          0      0     1  \n",
       "2023-01-07       0         0        0          0      1     0  \n",
       "2023-01-08       1         0        0          0      1     0  \n",
       "2023-01-09       0         0        0          0      0     1  \n",
       "2023-01-10       0         0        1          0      0     1  \n",
       "2023-01-11       0         0        0          1      0     1  \n",
       "2023-01-12       0         1        0          0      0     1  \n",
       "2023-01-13       0         0        0          0      0     1  \n",
       "2023-01-14       0         0        0          0      1     0  \n",
       "2023-01-15       1         0        0          0      1     0  \n",
       "2023-01-16       0         0        0          0      1     0  \n",
       "2023-01-17       0         0        1          0      0     1  \n",
       "2023-01-18       0         0        0          1      0     1  \n",
       "2023-01-19       0         1        0          0      0     1  \n",
       "2023-01-20       0         0        0          0      0     1  \n",
       "2023-01-21       0         0        0          0      1     0  \n",
       "2023-01-22       1         0        0          0      1     0  \n",
       "2023-01-23       0         0        0          0      0     1  \n",
       "2023-01-24       0         0        1          0      0     1  \n",
       "2023-01-25       0         0        0          1      0     1  \n",
       "2023-01-26       0         1        0          0      0     1  \n",
       "2023-01-27       0         0        0          0      0     1  \n",
       "2023-01-28       0         0        0          0      1     0  \n",
       "2023-01-29       1         0        0          0      1     0  \n",
       "2023-01-30       0         0        0          0      0     1  \n",
       "2023-01-31       0         0        1          0      0     1  \n",
       "2023-02-01       0         0        0          1      0     1  \n",
       "2023-02-02       0         1        0          0      0     1  \n",
       "2023-02-03       0         0        0          0      0     1  \n",
       "2023-02-04       0         0        0          0      1     0  \n",
       "2023-02-05       1         0        0          0      1     0  \n",
       "2023-02-06       0         0        0          0      0     1  \n",
       "2023-02-07       0         0        1          0      0     1  \n",
       "2023-02-08       0         0        0          1      0     1  \n",
       "2023-02-09       0         1        0          0      0     1  \n",
       "2023-02-10       0         0        0          0      0     1  \n",
       "2023-02-11       0         0        0          0      1     0  \n",
       "2023-02-12       1         0        0          0      1     0  \n",
       "2023-02-13       0         0        0          0      0     1  \n",
       "2023-02-14       0         0        1          0      0     1  \n",
       "2023-02-15       0         0        0          1      0     1  \n",
       "2023-02-16       0         1        0          0      0     1  \n",
       "2023-02-17       0         0        0          0      0     1  \n",
       "2023-02-18       0         0        0          0      1     0  \n",
       "2023-02-19       1         0        0          0      1     0  \n",
       "2023-02-20       0         0        0          0      1     0  \n",
       "2023-02-21       0         0        1          0      0     1  \n",
       "2023-02-22       0         0        0          1      0     1  \n",
       "2023-02-23       0         1        0          0      0     1  \n",
       "2023-02-24       0         0        0          0      0     1  \n",
       "2023-02-25       0         0        0          0      1     0  \n",
       "2023-02-26       1         0        0          0      1     0  \n",
       "2023-02-27       0         0        0          0      0     1  \n",
       "2023-02-28       0         0        1          0      0     1  \n",
       "2023-03-01       0         0        0          1      0     1  "
      ]
     },
     "execution_count": 670,
     "metadata": {},
     "output_type": "execute_result"
    }
   ],
   "source": [
    "X_train_selected = X_train\n",
    "X_test_selected = X_test\n",
    "X_test_selected"
   ]
  },
  {
   "cell_type": "code",
   "execution_count": 671,
   "metadata": {},
   "outputs": [],
   "source": [
    "model.fit(X_train_selected, y_train)\n",
    "y_pred = model.predict(X_test_selected)"
   ]
  },
  {
   "cell_type": "code",
   "execution_count": 672,
   "metadata": {},
   "outputs": [
    {
     "name": "stdout",
     "output_type": "stream",
     "text": [
      "MAE: 3954.110941818183, MSE: 37534200.596073225, RMSE: 6126.5161875304975\n"
     ]
    }
   ],
   "source": [
    "from sklearn.metrics import mean_absolute_error, mean_squared_error\n",
    "\n",
    "mae = mean_absolute_error(y_test, y_pred)\n",
    "mse = mean_squared_error(y_test, y_pred)\n",
    "rmse = np.sqrt(mse)\n",
    "\n",
    "print(f'MAE: {mae}, MSE: {mse}, RMSE: {rmse}')\n"
   ]
  },
  {
   "cell_type": "code",
   "execution_count": null,
   "metadata": {},
   "outputs": [],
   "source": [
    "#w/TAVG\n",
    "'MAE: 4003.7584145454557, MSE: 38735439.06425123, RMSE: 6223.780126599206'\n",
    "#w/outTAVG\n",
    "'MAE: 4281.520034545456, MSE: 43862400.77605009, RMSE: 6622.869527331041'\n",
    "#w/Everything\n",
    "'MAE: 3954.110941818183, MSE: 37534200.596073225, RMSE: 6126.5161875304975'"
   ]
  },
  {
   "attachments": {},
   "cell_type": "markdown",
   "metadata": {},
   "source": [
    "# Pickel DataFrame(s)"
   ]
  },
  {
   "cell_type": "code",
   "execution_count": null,
   "metadata": {},
   "outputs": [],
   "source": [
    "with open('dataframes_and_importances.pkl', 'rb') as file:\n",
    "    loaded_data = pickle.load(file)\n",
    "\n",
    "# Access the loaded dataframes and the list of feature importances\n",
    "loaded_df1 = loaded_data['dataframe1']\n",
    "loaded_df2 = loaded_data['dataframe2']\n",
    "loaded_feature_importances = loaded_data['feature_importances']\n"
   ]
  }
 ],
 "metadata": {
  "kernelspec": {
   "display_name": "Pringle1",
   "language": "python",
   "name": "python3"
  },
  "language_info": {
   "codemirror_mode": {
    "name": "ipython",
    "version": 3
   },
   "file_extension": ".py",
   "mimetype": "text/x-python",
   "name": "python",
   "nbconvert_exporter": "python",
   "pygments_lexer": "ipython3",
   "version": "3.10.10"
  },
  "orig_nbformat": 4
 },
 "nbformat": 4,
 "nbformat_minor": 2
}
