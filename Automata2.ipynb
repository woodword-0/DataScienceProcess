{
 "cells": [
  {
   "cell_type": "code",
   "execution_count": 1,
   "metadata": {},
   "outputs": [
    {
     "data": {
      "image/png": "[encoded data removed]",
      "text/plain": [
       "<Figure size 640x480 with 1 Axes>"
      ]
     },
     "metadata": {},
     "output_type": "display_data"
    }
   ],
   "source": [
    "import numpy as np\n",
    "import matplotlib.pyplot as plt\n",
    "from matplotlib.animation import FuncAnimation\n",
    "\n",
    "# Define the size of the grid\n",
    "grid_size = (100, 100)\n",
    "\n",
    "# Create an initial grid with random states\n",
    "grid = np.random.randint(2, size=grid_size)\n",
    "\n",
    "# Define the rules for the cellular automaton\n",
    "def update_cell(state, neighbors):\n",
    "    alive_neighbors = np.sum(neighbors)\n",
    "    if state == 1 and (alive_neighbors < 2 or alive_neighbors > 3):\n",
    "        return 0\n",
    "    elif state == 0 and alive_neighbors == 3:\n",
    "        return 1\n",
    "    else:\n",
    "        return state\n",
    "\n",
    "# Update the grid using the rules\n",
    "def update_grid(grid):\n",
    "    new_grid = np.zeros(grid_size)\n",
    "    for i in range(grid_size[0]):\n",
    "        for j in range(grid_size[1]):\n",
    "            neighbors = grid[max(i-1, 0):min(i+2, grid_size[0]), max(j-1, 0):min(j+2, grid_size[1])]\n",
    "            new_grid[i,j] = update_cell(grid[i,j], neighbors.flatten()[1:])\n",
    "    return new_grid\n",
    "\n",
    "# Create a figure and axis for the graph\n",
    "fig, ax = plt.subplots()\n",
    "\n",
    "# Create an empty image for the graph\n",
    "img = ax.imshow(grid, cmap='binary')\n",
    "\n",
    "# Define the update function for the animation\n",
    "def update(frame):\n",
    "    global grid\n",
    "    grid = update_grid(grid)\n",
    "    img.set_data(grid)\n",
    "    return [img]\n",
    "\n",
    "# Create the animation\n",
    "anim = FuncAnimation(fig, update, frames=100, interval=50, blit=True)\n",
    "\n",
    "# Show the animation\n",
    "plt.show()\n"
   ]
  },
  {
   "cell_type": "code",
   "execution_count": 3,
   "metadata": {},
   "outputs": [
    {
     "data": {
      "image/png": "[encoded data removed]",
      "text/plain": [
       "<Figure size 100x100 with 1 Axes>"
      ]
     },
     "metadata": {},
     "output_type": "display_data"
    }
   ],
   "source": [
    "import numpy as np\n",
    "import matplotlib.pyplot as plt\n",
    "from matplotlib.colors import ListedColormap\n",
    "from matplotlib.animation import FuncAnimation\n",
    "\n",
    "# Define the size of the grid\n",
    "grid_size = (100, 100)\n",
    "\n",
    "# Create an initial grid with random states\n",
    "grid = np.random.randint(2, size=grid_size)\n",
    "\n",
    "# Define the rules for the cellular automaton\n",
    "def update_cell(state, neighbors):\n",
    "    alive_neighbors = np.sum(neighbors)\n",
    "    if state == 1 and (alive_neighbors < 1 or alive_neighbors > 2):\n",
    "        return 0\n",
    "    elif state == 0 and alive_neighbors == 3:\n",
    "        return 1\n",
    "    else:\n",
    "        return state\n",
    "\n",
    "# Update the grid using the rules\n",
    "def update_grid(grid):\n",
    "    new_grid = np.zeros(grid_size)\n",
    "    for i in range(grid_size[0]):\n",
    "        for j in range(grid_size[1]):\n",
    "            neighbors = grid[max(i-1, 0):min(i+2, grid_size[0]), max(j-1, 0):min(j+2, grid_size[1])]\n",
    "            new_grid[i,j] = update_cell(grid[i,j], neighbors.flatten()[1:])\n",
    "    return new_grid\n",
    "\n",
    "# Create a figure and axis for the graph\n",
    "fig, ax = plt.subplots()\n",
    "\n",
    "# Create a custom colormap with two colors\n",
    "colors = [(0, 0, 0), (1, 0, 0)]\n",
    "cmap = ListedColormap(colors)\n",
    "\n",
    "# Create an empty image for the graph\n",
    "img = ax.imshow(grid, cmap=cmap, extent=(0, grid_size[1], 0, grid_size[0]), interpolation='nearest')\n",
    "\n",
    "# Set the size of the squares to 20x20 pixels\n",
    "img.set_clim(-0.05, 1.05)\n",
    "dpi = 100\n",
    "height, width = grid_size\n",
    "fig.set_size_inches(width / float(dpi), height / float(dpi))\n",
    "\n",
    "# Define the update function for the animation\n",
    "def update(frame):\n",
    "    global grid\n",
    "    grid = update_grid(grid)\n",
    "    img.set_data(grid)\n",
    "    return [img]\n",
    "\n",
    "# Create the animation\n",
    "anim = FuncAnimation(fig, update, frames=100, interval=50, blit=True)\n",
    "\n",
    "# Show the animation\n",
    "plt.show()\n"
   ]
  },
  {
   "cell_type": "code",
   "execution_count": null,
   "metadata": {},
   "outputs": [],
   "source": []
  }
 ],
 "metadata": {
  "kernelspec": {
   "display_name": "Pringle1",
   "language": "python",
   "name": "python3"
  },
  "language_info": {
   "codemirror_mode": {
    "name": "ipython",
    "version": 3
   },
   "file_extension": ".py",
   "mimetype": "text/x-python",
   "name": "python",
   "nbconvert_exporter": "python",
   "pygments_lexer": "ipython3",
   "version": "3.10.11"
  },
  "orig_nbformat": 4
 },
 "nbformat": 4,
 "nbformat_minor": 2
}
