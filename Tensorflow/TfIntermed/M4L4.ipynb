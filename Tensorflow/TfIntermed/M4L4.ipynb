{
 "cells": [
  {
   "attachments": {},
   "cell_type": "markdown",
   "metadata": {},
   "source": [
    "# Building a Content-Based Filtering Model"
   ]
  },
  {
   "attachments": {},
   "cell_type": "markdown",
   "metadata": {},
   "source": [
    "1. Dataset\n",
    "2. Data Preprocessing\n",
    "3. Building a Content-Based Filtering Model"
   ]
  },
  {
   "cell_type": "code",
   "execution_count": 2,
   "metadata": {},
   "outputs": [],
   "source": [
    "\n",
    "import numpy as np\n",
    "import pandas as pd\n",
    "import tensorflow as tf\n",
    "from sklearn.model_selection import train_test_split\n",
    "from sklearn.preprocessing import LabelEncoder"
   ]
  },
  {
   "attachments": {},
   "cell_type": "markdown",
   "metadata": {},
   "source": [
    "## Dataset"
   ]
  },
  {
   "cell_type": "code",
   "execution_count": 3,
   "metadata": {},
   "outputs": [],
   "source": [
    "# Define the number of users and items\n",
    "num_users = 100\n",
    "num_items = 50\n",
    "# Generate random user-item interactions\n",
    "user_ids = np.random.randint(0, num_users, size=1000)\n",
    "item_ids = np.random.randint(0, num_items, size=1000)\n",
    "# Simulate ratings or preferences (e.g., on a scale of 1 to 5)\n",
    "ratings = np.random.randint(1, 6, size=1000)\n",
    "# Create a pandas DataFrame for the dataset\n",
    "dataset = pd.DataFrame({'user_id': user_ids, 'item_id': item_ids, 'rating': ratings})"
   ]
  },
  {
   "attachments": {},
   "cell_type": "markdown",
   "metadata": {},
   "source": [
    "## Data Preprocessing"
   ]
  },
  {
   "cell_type": "code",
   "execution_count": 4,
   "metadata": {},
   "outputs": [],
   "source": [
    "\n",
    "# Encoding categorical variables (if applicable)\n",
    "# Encoding categorical variables\n",
    "label_encoder = LabelEncoder()\n",
    "dataset['user_id'] = label_encoder.fit_transform(dataset['user_id'])\n",
    "dataset['item_id'] = label_encoder.fit_transform(dataset['item_id'])\n",
    "# Splitting the dataset into training and testing sets\n",
    "train_data, test_data = train_test_split(dataset, test_size=0.2, random_state=42)"
   ]
  },
  {
   "attachments": {},
   "cell_type": "markdown",
   "metadata": {},
   "source": [
    "## Building a Content-Based Filtering Model"
   ]
  },
  {
   "cell_type": "code",
   "execution_count": 5,
   "metadata": {},
   "outputs": [
    {
     "name": "stdout",
     "output_type": "stream",
     "text": [
      "Model: \"model\"\n",
      "__________________________________________________________________________________________________\n",
      " Layer (type)                   Output Shape         Param #     Connected to                     \n",
      "==================================================================================================\n",
      " user_input (InputLayer)        [(None, 1)]          0           []                               \n",
      "                                                                                                  \n",
      " item_input (InputLayer)        [(None, 1)]          0           []                               \n",
      "                                                                                                  \n",
      " user_embedding (Embedding)     (None, 1, 8)         800         ['user_input[0][0]']             \n",
      "                                                                                                  \n",
      " item_embedding (Embedding)     (None, 1, 8)         400         ['item_input[0][0]']             \n",
      "                                                                                                  \n",
      " flatten (Flatten)              (None, 8)            0           ['user_embedding[0][0]']         \n",
      "                                                                                                  \n",
      " flatten_1 (Flatten)            (None, 8)            0           ['item_embedding[0][0]']         \n",
      "                                                                                                  \n",
      " concatenate (Concatenate)      (None, 16)           0           ['flatten[0][0]',                \n",
      "                                                                  'flatten_1[0][0]']              \n",
      "                                                                                                  \n",
      " dense (Dense)                  (None, 1)            17          ['concatenate[0][0]']            \n",
      "                                                                                                  \n",
      "==================================================================================================\n",
      "Total params: 1,217\n",
      "Trainable params: 1,217\n",
      "Non-trainable params: 0\n",
      "__________________________________________________________________________________________________\n"
     ]
    }
   ],
   "source": [
    "\n",
    "# Define the input layers\n",
    "user_input = tf.keras.Input(shape=(1,), dtype=tf.int32, name='user_input')\n",
    "item_input = tf.keras.Input(shape=(1,), dtype=tf.int32, name='item_input')\n",
    "# Embedding layers for users and items\n",
    "embedding_dim = 8\n",
    "user_embedding = tf.keras.layers.Embedding(num_users, embedding_dim, name='user_embedding')(user_input)\n",
    "item_embedding = tf.keras.layers.Embedding(num_items, embedding_dim, name='item_embedding')(item_input)\n",
    "# Flatten the embeddings\n",
    "user_flatten = tf.keras.layers.Flatten()(user_embedding)\n",
    "item_flatten = tf.keras.layers.Flatten()(item_embedding)\n",
    "# Concatenate the flattened embeddings\n",
    "concat = tf.keras.layers.Concatenate()([user_flatten, item_flatten])\n",
    "# Add a dense layer for prediction\n",
    "output = tf.keras.layers.Dense(1, activation='linear')(concat)\n",
    "# Create the model\n",
    "model = tf.keras.Model(inputs=[user_input, item_input], outputs=output)\n",
    "model.compile(optimizer='adam', loss='mse')\n",
    "model.summary()"
   ]
  },
  {
   "cell_type": "code",
   "execution_count": null,
   "metadata": {},
   "outputs": [],
   "source": []
  }
 ],
 "metadata": {
  "kernelspec": {
   "display_name": "TfIntm",
   "language": "python",
   "name": "python3"
  },
  "language_info": {
   "codemirror_mode": {
    "name": "ipython",
    "version": 3
   },
   "file_extension": ".py",
   "mimetype": "text/x-python",
   "name": "python",
   "nbconvert_exporter": "python",
   "pygments_lexer": "ipython3",
   "version": "3.11.3"
  },
  "orig_nbformat": 4
 },
 "nbformat": 4,
 "nbformat_minor": 2
}
