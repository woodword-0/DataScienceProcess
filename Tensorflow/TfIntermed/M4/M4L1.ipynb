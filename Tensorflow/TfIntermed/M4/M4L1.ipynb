{
 "cells": [
  {
   "attachments": {},
   "cell_type": "markdown",
   "metadata": {},
   "source": [
    "# Introduction to Recommender Systems \n"
   ]
  },
  {
   "attachments": {},
   "cell_type": "markdown",
   "metadata": {},
   "source": [
    "## Types of recommender systems"
   ]
  },
  {
   "attachments": {},
   "cell_type": "markdown",
   "metadata": {},
   "source": [
    "1. Content-based\n",
    "2. Collaborative filtering\n",
    "3. Hybrid"
   ]
  },
  {
   "attachments": {},
   "cell_type": "markdown",
   "metadata": {},
   "source": [
    " ### $\\bf{Content-based}$ recommender systems make recommendations based on the characteristics or features of the items being recommended. These systems analyze the content or attributes associated with the items and use this information to identify similarities and make recommendations. For example, in a movie recommendation system, the system might recommend similar movies based on genre, actors, directors, or plot keywords. Content-based recommender systems focus on the characteristics of the items rather than considering user preferences or interactions.\n"
   ]
  },
  {
   "attachments": {},
   "cell_type": "markdown",
   "metadata": {},
   "source": [
    "### $\\bf{Collaborative  \\ filtering}$ recommender systems make recommendations based on the collective behavior or preferences of a group of users. These systems leverage the idea that users who have similar preferences in the past are likely to have similar preferences in the future. Collaborative filtering can be further classified into two main approaches:\n",
    "\n",
    "1. User-Based Collaborative Filtering: Identifies users who have similar preferences and recommendations are made based on items liked by similar users. For example, if user A and user B have rated or purchased similar items in the past, the system might recommend items liked by user B to user A.\n",
    "\n",
    "2. Item-Based Collaborative Filtering: This approach identifies items that are similar based on user preferences and recommendations are made based on similar items. For example, if users who liked item X also liked item Y, the system might recommend item Y to users who have shown an interest in item X."
   ]
  },
  {
   "attachments": {},
   "cell_type": "markdown",
   "metadata": {},
   "source": [
    "### $\\bf{Hybrid}$ recommender systems combine both content-based and collaborative filtering techniques  Leverage the strengths of both approaches to improve recommendation accuracy.\n",
    "\n",
    "implementation strategy:\n",
    "1. Use content-based methods to pre-filter \n",
    "2. Apply collaborative filtering or combine the outputs of content-based and collaborative filtering \n",
    "3. Try to leverage the complementary nature of both approaches to enhance recommendation performance"
   ]
  },
  {
   "attachments": {},
   "cell_type": "markdown",
   "metadata": {},
   "source": []
  }
 ],
 "metadata": {
  "language_info": {
   "name": "python"
  },
  "orig_nbformat": 4
 },
 "nbformat": 4,
 "nbformat_minor": 2
}
