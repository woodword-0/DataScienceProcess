{
 "cells": [
  {
   "attachments": {},
   "cell_type": "markdown",
   "metadata": {},
   "source": [
    "# Building a Collaborative Filtering Model"
   ]
  },
  {
   "attachments": {},
   "cell_type": "markdown",
   "metadata": {},
   "source": [
    "1. Dataset\n",
    "2. Data Preprocessing\n",
    "3. Building the Collaborative Filtering Model \n",
    "4. Evaluating the Model"
   ]
  },
  {
   "cell_type": "code",
   "execution_count": 2,
   "metadata": {},
   "outputs": [],
   "source": [
    "\n",
    "\n",
    "import numpy as np\n",
    "import pandas as pd\n",
    "import tensorflow as tf\n",
    "from sklearn.model_selection import train_test_split\n",
    "from sklearn.preprocessing import LabelEncoder"
   ]
  },
  {
   "attachments": {},
   "cell_type": "markdown",
   "metadata": {},
   "source": [
    "## Dataset"
   ]
  },
  {
   "cell_type": "code",
   "execution_count": 3,
   "metadata": {},
   "outputs": [],
   "source": [
    "\n",
    "\n",
    "# Define the number of users and items\n",
    "num_users = 100\n",
    "num_items = 50\n",
    "# Generate random user-item interactions\n",
    "user_ids = np.random.randint(0, num_users, size=1000)\n",
    "item_ids = np.random.randint(0, num_items, size=1000)\n",
    "# Simulate ratings or preferences (e.g., on a scale of 1 to 5)\n",
    "ratings = np.random.randint(1, 6, size=1000)\n",
    "# Create a pandas DataFrame for the dataset\n",
    "dataset = pd.DataFrame({'user_id': user_ids, 'item_id': item_ids, 'rating': ratings})"
   ]
  },
  {
   "attachments": {},
   "cell_type": "markdown",
   "metadata": {},
   "source": [
    "## Data Preprocessing"
   ]
  },
  {
   "cell_type": "code",
   "execution_count": 4,
   "metadata": {},
   "outputs": [],
   "source": [
    "\n",
    "\n",
    "# Encoding categorical variables\n",
    "label_encoder = LabelEncoder()\n",
    "dataset['user_id'] = label_encoder.fit_transform(dataset['user_id'])\n",
    "dataset['item_id'] = label_encoder.fit_transform(dataset['item_id'])\n",
    "# Splitting the dataset into training and testing sets\n",
    "train_data, test_data = train_test_split(dataset, test_size=0.2, random_state=42)\n",
    "\n"
   ]
  },
  {
   "attachments": {},
   "cell_type": "markdown",
   "metadata": {},
   "source": [
    "## Building the Collaborative Filtering Model"
   ]
  },
  {
   "cell_type": "code",
   "execution_count": 5,
   "metadata": {},
   "outputs": [],
   "source": [
    "# Define the input layers\n",
    "user_input = tf.keras.Input(shape=(1,), dtype=tf.int32, name='user_input')\n",
    "item_input = tf.keras.Input(shape=(1,), dtype=tf.int32, name='item_input')"
   ]
  },
  {
   "cell_type": "code",
   "execution_count": 8,
   "metadata": {},
   "outputs": [],
   "source": [
    "# Embedding layers for users and items\n",
    "embedding_dim = 8\n",
    "user_embedding = tf.keras.layers.Embedding(num_users, embedding_dim)(user_input)\n",
    "item_embedding = tf.keras.layers.Embedding(num_items, embedding_dim)(item_input)"
   ]
  },
  {
   "cell_type": "code",
   "execution_count": 9,
   "metadata": {},
   "outputs": [],
   "source": [
    "# Calculate similarities using dot product\n",
    "user_item_sim = tf.keras.layers.Dot(axes=2, normalize=True)([user_embedding, item_embedding])"
   ]
  },
  {
   "cell_type": "code",
   "execution_count": 10,
   "metadata": {},
   "outputs": [],
   "source": [
    "# Flatten the output\n",
    "output = tf.keras.layers.Flatten()(user_item_sim)"
   ]
  },
  {
   "attachments": {},
   "cell_type": "markdown",
   "metadata": {},
   "source": [
    "## Evaluating the Model"
   ]
  },
  {
   "cell_type": "code",
   "execution_count": 11,
   "metadata": {},
   "outputs": [],
   "source": [
    "# Create the model\n",
    "model = tf.keras.Model(inputs=[user_input, item_input], outputs=output)\n",
    "model.compile(optimizer='adam', loss='mse')"
   ]
  },
  {
   "cell_type": "code",
   "execution_count": 9,
   "metadata": {},
   "outputs": [
    {
     "name": "stdout",
     "output_type": "stream",
     "text": [
      "Epoch 1/10\n",
      "25/25 [==============================] - 1s 3ms/step - loss: 10.5435\n",
      "Epoch 2/10\n",
      "25/25 [==============================] - 0s 3ms/step - loss: 9.8075\n",
      "Epoch 3/10\n",
      "25/25 [==============================] - 0s 3ms/step - loss: 9.2358\n",
      "Epoch 4/10\n",
      "25/25 [==============================] - 0s 3ms/step - loss: 8.7391\n",
      "Epoch 5/10\n",
      "25/25 [==============================] - 0s 3ms/step - loss: 8.2633\n",
      "Epoch 6/10\n",
      "25/25 [==============================] - 0s 4ms/step - loss: 7.8071\n",
      "Epoch 7/10\n",
      "25/25 [==============================] - 0s 3ms/step - loss: 7.3662\n",
      "Epoch 8/10\n",
      "25/25 [==============================] - 0s 4ms/step - loss: 6.9601\n",
      "Epoch 9/10\n",
      "25/25 [==============================] - 0s 3ms/step - loss: 6.6072\n",
      "Epoch 10/10\n",
      "25/25 [==============================] - 0s 4ms/step - loss: 6.3142\n"
     ]
    }
   ],
   "source": [
    "\n",
    "\n",
    "# Train the model\n",
    "model.fit([train_data['user_id'], train_data['item_id']], train_data['rating'], epochs=10, batch_size=32)\n",
    "# Save the model\n",
    "model.save('my_model.h5')"
   ]
  },
  {
   "cell_type": "code",
   "execution_count": 12,
   "metadata": {},
   "outputs": [
    {
     "name": "stdout",
     "output_type": "stream",
     "text": [
      "7/7 [==============================] - 0s 3ms/step\n"
     ]
    }
   ],
   "source": [
    "\n",
    "\n",
    "# Make predictions\n",
    "\n",
    "predictions = model.predict([test_data['user_id'], test_data['item_id']])\n",
    "\n"
   ]
  },
  {
   "cell_type": "code",
   "execution_count": 15,
   "metadata": {},
   "outputs": [
    {
     "name": "stdout",
     "output_type": "stream",
     "text": [
      "Mean Squared Error: [12.325531  11.885969  12.436343  13.732897   8.046588  10.68853\n",
      " 12.318252   9.104243   8.156378  12.613146   8.881644  11.503025\n",
      " 12.866154  11.405117  10.952876   9.119992  11.183534   8.651856\n",
      " 14.274805   9.283539  12.988406  13.202881   9.923576  11.062291\n",
      " 10.530294   8.838253  10.9403105  8.695935  12.305611   9.067198\n",
      "  9.206889  10.321973  12.547029  10.83472   11.047949   8.927082\n",
      " 12.201172  13.35196   10.4475355 12.159759   7.876215  15.012119\n",
      " 10.738297  12.41084   12.061172  12.055454  14.738361  13.77263\n",
      " 10.451808  11.821681   9.832619  13.417811  11.995871  13.814663\n",
      " 16.246521  16.07849   10.869428   7.4363346 11.979509  13.319485\n",
      " 10.120524  13.413506  11.970356  12.305611  13.3474     9.436904\n",
      " 11.862949  15.506072  11.814264  12.998291  12.762215   9.7165165\n",
      " 13.019937  10.293037  13.956592   7.7596045 13.54307   10.776119\n",
      " 15.47196   10.974573  10.228893  13.347617  10.694331   9.665447\n",
      " 10.515251  12.484907  14.993466  10.693904  11.961169  10.933268\n",
      " 10.694106  14.568535   9.670159   9.761993  13.388162   9.680045\n",
      " 10.648647  12.461206   8.145498   9.830587  13.73045   15.861995\n",
      "  9.660489  13.362781  10.0595665  9.45087   11.5779295  8.639246\n",
      "  9.492428  11.488159   7.892754  13.163658  12.184868  16.828274\n",
      " 12.065551  10.524812  13.207005  12.079114   9.519725  13.994911\n",
      " 10.481205  12.308171  12.298824  13.374768  11.862949  10.693904\n",
      " 14.510577  10.911895  12.91976   10.347374  11.512839   7.065757\n",
      " 10.648285  12.855378   9.334868  10.381717  10.602505   9.804911\n",
      " 11.68535    9.467524  10.012651  11.394831  12.436343   8.823507\n",
      " 11.405117  11.629673   9.474275  10.850866  11.157659   7.9697914\n",
      "  9.928904  13.706862  11.739834   7.912472  12.271446  11.09688\n",
      " 10.93712   13.673179   9.925599  10.879065  11.14271   12.449192\n",
      "  8.620225  12.5132265  7.950121  10.142015   8.023408   8.5090475\n",
      " 10.776119  12.518259  13.01264   15.012119  10.603045  11.877864\n",
      " 10.103456  11.54958   11.578887  12.381207  12.370014   8.959274\n",
      " 13.207569  11.666986  11.005169  12.253218  11.4852    12.215724\n",
      "  8.853055  10.3528185 14.316938  12.872954  14.730987  11.468388\n",
      " 10.419043  10.331591  14.541169  10.223422  14.645522  11.360722\n",
      "  8.575074  10.180819 ]\n"
     ]
    }
   ],
   "source": [
    "# Evaluate the model\n",
    "\n",
    "mse = tf.keras.losses.mean_squared_error(test_data['rating'], predictions)\n",
    "\n",
    "mse_value = mse.numpy()\n",
    "\n",
    "print(\"Mean Squared Error:\", mse_value)"
   ]
  },
  {
   "cell_type": "code",
   "execution_count": null,
   "metadata": {},
   "outputs": [],
   "source": []
  }
 ],
 "metadata": {
  "kernelspec": {
   "display_name": "TfIntm",
   "language": "python",
   "name": "python3"
  },
  "language_info": {
   "codemirror_mode": {
    "name": "ipython",
    "version": 3
   },
   "file_extension": ".py",
   "mimetype": "text/x-python",
   "name": "python",
   "nbconvert_exporter": "python",
   "pygments_lexer": "ipython3",
   "version": "3.11.3"
  },
  "orig_nbformat": 4
 },
 "nbformat": 4,
 "nbformat_minor": 2
}
