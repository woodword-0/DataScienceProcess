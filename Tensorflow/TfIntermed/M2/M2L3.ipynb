{
 "cells": [
  {
   "attachments": {},
   "cell_type": "markdown",
   "metadata": {},
   "source": [
    "# Training and Evaluating the RNN Model"
   ]
  },
  {
   "attachments": {},
   "cell_type": "markdown",
   "metadata": {},
   "source": [
    "1. Create dataset\n",
    "2. Building and training a model\n",
    "3. Evaluate the model"
   ]
  },
  {
   "cell_type": "code",
   "execution_count": 5,
   "metadata": {},
   "outputs": [],
   "source": [
    "import numpy as np\n",
    "\n",
    "import random\n",
    "\n",
    "import itertools\n",
    "import tensorflow as tf\n",
    "\n",
    "from tensorflow.keras.models import Sequential\n",
    "from tensorflow.keras.layers import Embedding, SimpleRNN, Dense"
   ]
  },
  {
   "attachments": {},
   "cell_type": "markdown",
   "metadata": {},
   "source": [
    "## Create dataset"
   ]
  },
  {
   "cell_type": "code",
   "execution_count": 6,
   "metadata": {},
   "outputs": [],
   "source": [
    "# Define the input sequences and their labels\n",
    "\n",
    "# Generate all permutations (Number of ways to label 4 vertices of a square 1-4)\n",
    "\n",
    "X = list(itertools.permutations([1, 2, 3, 4]))\n",
    "\n",
    "# Generate labels to classify each labeling as a specific type\n",
    "\n",
    "labels = random.choices([0, 1, 2, 3], k=24)\n",
    "\n"
   ]
  },
  {
   "cell_type": "code",
   "execution_count": 7,
   "metadata": {},
   "outputs": [],
   "source": [
    "\n",
    "\n",
    "# Create a train/test set\n",
    "\n",
    "X = np.array(X)\n",
    "\n",
    "y = np.array(labels)\n",
    "\n",
    "X_train = X[:int(0.8*len(X))]\n",
    "\n",
    "y_train = y[:int(0.8*len(y))]\n",
    "\n",
    "X_test = X[int(0.8*len(X)):]\n",
    "\n",
    "y_test = y[int(0.8*len(y)):]"
   ]
  },
  {
   "attachments": {},
   "cell_type": "markdown",
   "metadata": {},
   "source": [
    "## Building and training a model"
   ]
  },
  {
   "cell_type": "code",
   "execution_count": 8,
   "metadata": {},
   "outputs": [],
   "source": [
    "\n",
    "# Define the RNN model\n",
    "\n",
    "model = Sequential()\n",
    "\n",
    "model.add(Embedding(5, 8, input_length=4))  # Embedding layer to represent input sequences\n",
    "\n",
    "model.add(SimpleRNN(16))  # SimpleRNN layer to capture sequential information\n",
    "\n",
    "model.add(Dense(4, activation='softmax'))  # Output layer with softmax activation for classification\n",
    "\n"
   ]
  },
  {
   "cell_type": "code",
   "execution_count": 9,
   "metadata": {},
   "outputs": [],
   "source": [
    "# Compile the model\n",
    "\n",
    "model.compile(optimizer='adam', loss='sparse_categorical_crossentropy', metrics=['accuracy'])"
   ]
  },
  {
   "cell_type": "code",
   "execution_count": 10,
   "metadata": {},
   "outputs": [
    {
     "name": "stdout",
     "output_type": "stream",
     "text": [
      "10/10 [==============================] - 18s 20ms/step - loss: 1.3843 - accuracy: 0.4211\n"
     ]
    },
    {
     "data": {
      "text/plain": [
       "<keras.callbacks.History at 0x2676db47f50>"
      ]
     },
     "execution_count": 10,
     "metadata": {},
     "output_type": "execute_result"
    }
   ],
   "source": [
    "# Train the model\n",
    "\n",
    "model.fit(X_train, y_train, epochs=1, batch_size=2)\n",
    "\n"
   ]
  },
  {
   "attachments": {},
   "cell_type": "markdown",
   "metadata": {},
   "source": [
    "## Evaluate the model"
   ]
  },
  {
   "cell_type": "code",
   "execution_count": 11,
   "metadata": {},
   "outputs": [
    {
     "name": "stdout",
     "output_type": "stream",
     "text": [
      "1/1 [==============================] - 2s 2s/step\n",
      "[2 2 2 2 2] [0 2 0 2 2]\n"
     ]
    }
   ],
   "source": [
    "\n",
    "# Evaluate the model on new data\n",
    "\n",
    "predictions = model.predict(X_test)\n",
    "\n",
    "predicted_classes = np.argmax(predictions, axis=1)\n",
    "\n",
    "print(predicted_classes,y_test)\n",
    "\n"
   ]
  },
  {
   "cell_type": "code",
   "execution_count": null,
   "metadata": {},
   "outputs": [],
   "source": [
    "# # Define the RNN model\n",
    "# model = tf.keras.models.Sequential([\n",
    "#     tf.keras.layers.Embedding(4, 4, input_length=4),\n",
    "#     tf.keras.layers.SimpleRNN(4),\n",
    "#     tf.keras.layers.Dense(1, activation='sigmoid')\n",
    "# ])\n",
    "\n",
    "# # Compile the model\n",
    "# model.compile(optimizer='adam', loss='binary_crossentropy', metrics=['accuracy'])"
   ]
  },
  {
   "cell_type": "code",
   "execution_count": null,
   "metadata": {},
   "outputs": [],
   "source": [
    "# model.summary()"
   ]
  },
  {
   "attachments": {},
   "cell_type": "markdown",
   "metadata": {},
   "source": [
    "## Train a Model"
   ]
  },
  {
   "cell_type": "code",
   "execution_count": null,
   "metadata": {},
   "outputs": [],
   "source": [
    "# # Train the model\n",
    "# model.fit(sequences, labels, epochs=10, batch_size=3)"
   ]
  },
  {
   "attachments": {},
   "cell_type": "markdown",
   "metadata": {},
   "source": [
    "# Evaluate the Model"
   ]
  },
  {
   "cell_type": "code",
   "execution_count": null,
   "metadata": {},
   "outputs": [],
   "source": [
    "# # Make predictions\n",
    "# predictions = model.predict(sequences)"
   ]
  },
  {
   "cell_type": "code",
   "execution_count": null,
   "metadata": {},
   "outputs": [],
   "source": []
  },
  {
   "cell_type": "code",
   "execution_count": null,
   "metadata": {},
   "outputs": [],
   "source": []
  },
  {
   "cell_type": "code",
   "execution_count": 79,
   "metadata": {},
   "outputs": [
    {
     "data": {
      "text/plain": [
       "10"
      ]
     },
     "execution_count": 79,
     "metadata": {},
     "output_type": "execute_result"
    }
   ],
   "source": [
    "# import numpy as np\n",
    "# import tensorflow as tf\n",
    "# from sklearn.model_selection import train_test_split\n",
    "\n",
    "# # Example sequential data\n",
    "# sequences = ['hello', 'world', 'tensorflow']\n",
    "\n",
    "# # Create a vocabulary of unique characters\n",
    "# vocab = sorted(set(''.join(sequences)))\n",
    "# # Create a mapping from characters to indices\n",
    "# char_to_idx = {char: idx for idx, char in enumerate(vocab)}\n",
    "# # Convert sequences to numerical arrays\n",
    "# X = [[char_to_idx[char] for char in seq] for seq in sequences]\n",
    "# # Pad sequences to have the same length\n",
    "# X = tf.keras.preprocessing.sequence.pad_sequences(X)\n",
    "# len(X[2])\n",
    "# # Create labels (y) by shifting the sequences\n",
    "# # y = np.roll(X, -1, axis=1)\n",
    "# # y[:, -1] = 0\n",
    "\n",
    "# # Split the data into training and validation sets\n",
    "# # X_train, X_val, y_train, y_val = train_test_split(X, y, test_size=0.2, random_state=42)"
   ]
  },
  {
   "cell_type": "code",
   "execution_count": 67,
   "metadata": {},
   "outputs": [
    {
     "name": "stdout",
     "output_type": "stream",
     "text": [
      "Model: \"sequential_20\"\n",
      "_________________________________________________________________\n",
      " Layer (type)                Output Shape              Param #   \n",
      "=================================================================\n",
      " embedding_22 (Embedding)    (None, 10, 3)             33        \n",
      "                                                                 \n",
      " simple_rnn_21 (SimpleRNN)   (None, 2)                 12        \n",
      "                                                                 \n",
      " dense_21 (Dense)            (None, 11)                33        \n",
      "                                                                 \n",
      "=================================================================\n",
      "Total params: 78\n",
      "Trainable params: 78\n",
      "Non-trainable params: 0\n",
      "_________________________________________________________________\n"
     ]
    }
   ],
   "source": [
    "\n",
    "\n",
    "# # Create an RNN model\n",
    "# model = tf.keras.models.Sequential([\n",
    "#     tf.keras.layers.Embedding(len(vocab), 3, input_length=X.shape[1]),\n",
    "#     tf.keras.layers.SimpleRNN(units=2),\n",
    "#     tf.keras.layers.Dense(len(vocab), activation='softmax')\n",
    "# ])\n",
    "\n",
    "# # Compile the RNN model\n",
    "# model.compile(optimizer='adam', loss=tf.keras.losses.SparseCategoricalCrossentropy(from_logits=True), metrics=['accuracy'])\n",
    "\n",
    "# # model.compile(optimizer='adam', loss='sparse_categorical_crossentropy', metrics=['accuracy'])\n",
    "# model.summary()\n",
    "# # Train the RNN model\n",
    "# # history = model.fit(X, y, epochs=10, batch_size=3)\n"
   ]
  },
  {
   "cell_type": "code",
   "execution_count": 68,
   "metadata": {},
   "outputs": [
    {
     "name": "stdout",
     "output_type": "stream",
     "text": [
      "X shape: (3, 10)\n",
      "y shape: (3, 10)\n"
     ]
    }
   ],
   "source": [
    "# print(\"X shape:\", X.shape)\n",
    "# print(\"y shape:\", y.shape)\n"
   ]
  }
 ],
 "metadata": {
  "kernelspec": {
   "display_name": "TfIntm",
   "language": "python",
   "name": "python3"
  },
  "language_info": {
   "codemirror_mode": {
    "name": "ipython",
    "version": 3
   },
   "file_extension": ".py",
   "mimetype": "text/x-python",
   "name": "python",
   "nbconvert_exporter": "python",
   "pygments_lexer": "ipython3",
   "version": "3.11.3"
  },
  "orig_nbformat": 4
 },
 "nbformat": 4,
 "nbformat_minor": 2
}
