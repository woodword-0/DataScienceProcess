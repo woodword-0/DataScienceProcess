{
 "cells": [
  {
   "attachments": {},
   "cell_type": "markdown",
   "metadata": {},
   "source": [
    "# Sequences and Time series Forecasting"
   ]
  },
  {
   "attachments": {},
   "cell_type": "markdown",
   "metadata": {},
   "source": [
    "\n",
    "\n",
    "## Sequences\n",
    "\n",
    "$\\bf{Definition}$: A sequence is a collection of data points or events that are ordered in a specific manner. "
   ]
  },
  {
   "attachments": {},
   "cell_type": "markdown",
   "metadata": {},
   "source": [
    "## Time Series\n",
    "\n",
    "$\\bf{Definition}$:Time series forecasting is a specific type of sequence analysis that focuses on predicting future values based on past observations. In time series forecasting, the data points are collected over regular intervals of time, such as daily, monthly, or yearly, and the goal is to understand and predict the patterns and trends within the data.\n",
    "\n"
   ]
  },
  {
   "attachments": {},
   "cell_type": "markdown",
   "metadata": {},
   "source": [
    "\n",
    "\n",
    "## Use cases for sequences\n",
    "\n",
    "1. stock prices \n",
    "\n",
    "2. weather patterns \n",
    "\n",
    "3. text data\n",
    "\n",
    "4. DNA sequences"
   ]
  },
  {
   "attachments": {},
   "cell_type": "markdown",
   "metadata": {},
   "source": []
  }
 ],
 "metadata": {
  "language_info": {
   "name": "python"
  },
  "orig_nbformat": 4
 },
 "nbformat": 4,
 "nbformat_minor": 2
}
