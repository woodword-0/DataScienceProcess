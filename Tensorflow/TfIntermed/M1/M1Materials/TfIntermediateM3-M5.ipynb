M3L3

# Building a Sequential Model for Time Series Forecasting

1. Generate a sine wave time series dataset
2. Create sequential train/test set
3. Build a Sequential Model

import numpy as np
import matplotlib.pyplot as plt
import tensorflow as tf
from tensorflow.keras.models import Sequential
from tensorflow.keras.layers import LSTM, Dense

## Generate a sine wave time series dataset

# Generate a sine wave time series
np.random.seed(0)
t = np.arange(0, 100, 0.1)
signal = np.sin(0.1 * t) + np.random.normal(0, 0.1, len(t))

# Plot the time series
plt.plot(t, signal)
plt.title('Sine Wave Time Series')
plt.xlabel('Time')
plt.ylabel('Value')
plt.show()

## Create sequential train/test set

# Split the data into training and testing sets
train_size = int(len(signal) * 0.8)
train_data = signal[:train_size]
test_data = signal[train_size:]

# Define the sequence length and step size
sequence_length = 10
step = 1

# Generate sequences for training
sequences = []
labels = []
for i in range(len(train_data) - sequence_length - 1):
    sequences.append(train_data[i:i+sequence_length])
    labels.append(train_data[i+sequence_length])
    
sequences = np.array(sequences)
labels = np.array(labels)




## Building a Sequential Model

# Build the sequential model
model = Sequential()
model.add(LSTM(64, input_shape=(sequence_length, 1)))
model.add(Dense(1))

# Compile the model
model.compile(loss='mean_squared_error', optimizer='adam')


## Training and Evaluating the Model

1. Train the Model
2. Evaluate the Model
3. Compare Results Visually

import numpy as np
import matplotlib.pyplot as plt
import tensorflow as tf
from tensorflow.keras.models import Sequential
from tensorflow.keras.layers import LSTM, Dense

# Build the sequential model
model = Sequential()
model.add(LSTM(64, input_shape=(sequence_length, 1)))
model.add(Dense(1))
# Compile the model
model.compile(loss='mean_squared_error', optimizer='adam')

# Train the Model

# Train the model
history = model.fit(sequences, labels, epochs=10, batch_size=32, verbose=1)

# Evaluate the Model

# Evaluate the model on the testing set
test_sequences = []
test_labels = []
for i in range(len(test_data) - sequence_length - 1):
    test_sequences.append(test_data[i:i+sequence_length])
    test_labels.append(test_data[i+sequence_length])
    
test_sequences = np.array(test_sequences)
test_labels = np.array(test_labels)

predicted_labels = model.predict(test_sequences)

# Compare Results Visually

# Plot the predicted and true values
plt.plot(test_labels, label='True Values')
plt.plot(predicted_labels, label='Predicted Values')
plt.title('Predicted vs True Values')
plt.xlabel('Time')
plt.ylabel('Value')
plt.legend()
plt.show()


