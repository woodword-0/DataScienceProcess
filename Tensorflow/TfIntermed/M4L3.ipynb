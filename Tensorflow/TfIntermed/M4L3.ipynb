{
 "cells": [
  {
   "attachments": {},
   "cell_type": "markdown",
   "metadata": {},
   "source": [
    "# Building a Collaborative Filtering Model"
   ]
  },
  {
   "attachments": {},
   "cell_type": "markdown",
   "metadata": {},
   "source": [
    "1. Dataset\n",
    "2. Data Preprocessing\n",
    "3. Building the Collaborative Filtering Model \n",
    "4. Evaluating the Model"
   ]
  },
  {
   "cell_type": "code",
   "execution_count": 1,
   "metadata": {},
   "outputs": [],
   "source": [
    "\n",
    "\n",
    "import numpy as np\n",
    "import pandas as pd\n",
    "import tensorflow as tf\n",
    "from sklearn.model_selection import train_test_split\n",
    "from sklearn.preprocessing import LabelEncoder"
   ]
  },
  {
   "attachments": {},
   "cell_type": "markdown",
   "metadata": {},
   "source": [
    "## Dataset"
   ]
  },
  {
   "cell_type": "code",
   "execution_count": 2,
   "metadata": {},
   "outputs": [],
   "source": [
    "\n",
    "\n",
    "# Define the number of users and items\n",
    "num_users = 100\n",
    "num_items = 50\n",
    "# Generate random user-item interactions\n",
    "user_ids = np.random.randint(0, num_users, size=1000)\n",
    "item_ids = np.random.randint(0, num_items, size=1000)\n",
    "# Simulate ratings or preferences (e.g., on a scale of 1 to 5)\n",
    "ratings = np.random.randint(1, 6, size=1000)\n",
    "# Create a pandas DataFrame for the dataset\n",
    "dataset = pd.DataFrame({'user_id': user_ids, 'item_id': item_ids, 'rating': ratings})"
   ]
  },
  {
   "attachments": {},
   "cell_type": "markdown",
   "metadata": {},
   "source": [
    "## Data Preprocessing"
   ]
  },
  {
   "cell_type": "code",
   "execution_count": 3,
   "metadata": {},
   "outputs": [],
   "source": [
    "\n",
    "\n",
    "# Encoding categorical variables\n",
    "label_encoder = LabelEncoder()\n",
    "dataset['user_id'] = label_encoder.fit_transform(dataset['user_id'])\n",
    "dataset['item_id'] = label_encoder.fit_transform(dataset['item_id'])\n",
    "# Splitting the dataset into training and testing sets\n",
    "train_data, test_data = train_test_split(dataset, test_size=0.2, random_state=42)\n",
    "\n"
   ]
  },
  {
   "attachments": {},
   "cell_type": "markdown",
   "metadata": {},
   "source": [
    "## Building the Collaborative Filtering Model"
   ]
  },
  {
   "cell_type": "code",
   "execution_count": 4,
   "metadata": {},
   "outputs": [],
   "source": [
    "# Define the input layers\n",
    "user_input = tf.keras.Input(shape=(1,), dtype=tf.int32, name='user_input')\n",
    "item_input = tf.keras.Input(shape=(1,), dtype=tf.int32, name='item_input')"
   ]
  },
  {
   "cell_type": "code",
   "execution_count": 5,
   "metadata": {},
   "outputs": [],
   "source": [
    "# Embedding layers for users and items\n",
    "embedding_dim = 8\n",
    "user_embedding = tf.keras.layers.Embedding(num_users, embedding_dim)(user_input)\n",
    "item_embedding = tf.keras.layers.Embedding(num_items, embedding_dim)(item_input)"
   ]
  },
  {
   "cell_type": "code",
   "execution_count": 6,
   "metadata": {},
   "outputs": [],
   "source": [
    "# Calculate similarities using dot product\n",
    "user_item_sim = tf.keras.layers.Dot(axes=2, normalize=True)([user_embedding, item_embedding])"
   ]
  },
  {
   "cell_type": "code",
   "execution_count": 7,
   "metadata": {},
   "outputs": [],
   "source": [
    "# Flatten the output\n",
    "output = tf.keras.layers.Flatten()(user_item_sim)"
   ]
  },
  {
   "attachments": {},
   "cell_type": "markdown",
   "metadata": {},
   "source": [
    "## Evaluating the Model"
   ]
  },
  {
   "cell_type": "code",
   "execution_count": 8,
   "metadata": {},
   "outputs": [],
   "source": [
    "# Create the model\n",
    "model = tf.keras.Model(inputs=[user_input, item_input], outputs=output)\n",
    "model.compile(optimizer='adam', loss='mse')"
   ]
  },
  {
   "cell_type": "code",
   "execution_count": 9,
   "metadata": {},
   "outputs": [
    {
     "name": "stdout",
     "output_type": "stream",
     "text": [
      "Epoch 1/10\n",
      "25/25 [==============================] - 1s 3ms/step - loss: 10.5435\n",
      "Epoch 2/10\n",
      "25/25 [==============================] - 0s 3ms/step - loss: 9.8075\n",
      "Epoch 3/10\n",
      "25/25 [==============================] - 0s 3ms/step - loss: 9.2358\n",
      "Epoch 4/10\n",
      "25/25 [==============================] - 0s 3ms/step - loss: 8.7391\n",
      "Epoch 5/10\n",
      "25/25 [==============================] - 0s 3ms/step - loss: 8.2633\n",
      "Epoch 6/10\n",
      "25/25 [==============================] - 0s 4ms/step - loss: 7.8071\n",
      "Epoch 7/10\n",
      "25/25 [==============================] - 0s 3ms/step - loss: 7.3662\n",
      "Epoch 8/10\n",
      "25/25 [==============================] - 0s 4ms/step - loss: 6.9601\n",
      "Epoch 9/10\n",
      "25/25 [==============================] - 0s 3ms/step - loss: 6.6072\n",
      "Epoch 10/10\n",
      "25/25 [==============================] - 0s 4ms/step - loss: 6.3142\n"
     ]
    }
   ],
   "source": [
    "\n",
    "\n",
    "# Train the model\n",
    "model.fit([train_data['user_id'], train_data['item_id']], train_data['rating'], epochs=10, batch_size=32)\n",
    "# Save the model\n",
    "model.save('my_model.h5')"
   ]
  },
  {
   "cell_type": "code",
   "execution_count": 10,
   "metadata": {},
   "outputs": [
    {
     "name": "stdout",
     "output_type": "stream",
     "text": [
      "7/7 [==============================] - 1s 4ms/step\n"
     ]
    }
   ],
   "source": [
    "\n",
    "\n",
    "# Make predictions\n",
    "\n",
    "predictions = model.predict([test_data['user_id'], test_data['item_id']])\n",
    "\n"
   ]
  },
  {
   "cell_type": "code",
   "execution_count": 12,
   "metadata": {},
   "outputs": [
    {
     "name": "stdout",
     "output_type": "stream",
     "text": [
      "Mean Squared Error: [ 6.5843554  6.1087914  6.390244   6.996768   6.6836724  7.133465\n",
      "  6.875077   6.507872   8.660327   7.510725   5.9567037  5.7798157\n",
      "  8.576308   6.9878373  6.8295717  8.422362   6.0703998  6.8721886\n",
      "  6.933267   6.809137   6.531346   6.928822   5.809286   5.896659\n",
      "  5.8441143  5.832834   7.077341   6.7604604  5.9947057  7.0401626\n",
      "  5.953419   7.9779177  6.30525    6.9487433  5.9557357  5.846556\n",
      "  6.848395   7.333658   8.850171   6.6259     7.374183   7.016434\n",
      "  7.123144   6.541188   5.8176394  6.3394213  6.2005615  5.9324365\n",
      "  9.291928   7.1891327  7.427412   7.3894653  6.240869   6.055829\n",
      "  6.5424104  5.6998305  6.1952863  6.52077    5.715554   8.039052\n",
      "  6.4908834  7.73167    6.954766   8.047593   6.120841   9.669979\n",
      "  8.301126   7.0896873  7.0932264  6.685193   6.20922    6.33753\n",
      "  6.9604387  6.9492016  6.789306   7.2316456  7.4844446  6.6448035\n",
      "  7.9175453  6.3948364  6.345433   8.489819   6.766022   6.601632\n",
      "  7.7876415  5.931896   9.027836   5.822621   6.7338934  6.316716\n",
      "  6.7094774  7.881609   6.6137023  6.307766   6.1327467  6.9151516\n",
      "  7.240474   7.706647   7.576517   7.058518   6.8602624  6.3442316\n",
      "  7.16491    6.2165084  7.3190417  6.077938   6.9042277  6.138668\n",
      "  7.05755    6.290553   7.3011537  6.619504   6.835277   7.9264073\n",
      "  6.692234   6.2616453  6.4661217  7.041763   6.2673693  7.0760474\n",
      "  6.043208   6.5525775  6.4908834  8.334095   6.849718  10.009887\n",
      "  6.6105714  8.673199   6.1086793  7.1819067  7.234938   9.755407\n",
      "  6.3486137  6.9964967  6.4138684  7.8326635  7.0409603  6.2030096\n",
      "  6.646788   6.227761   7.0843053  6.531615   7.7097206  7.1493874\n",
      "  8.921848   6.2934403  6.1212783  6.67477    6.1788173  6.791016\n",
      "  9.305062   6.6737185  6.3854465  5.99711    6.7052107  8.50528\n",
      "  5.918291   8.960144   6.611099   6.0780616  9.149581   6.912237\n",
      "  6.3765244  6.1737456  7.0327373  6.256012   9.074527   8.154784\n",
      "  6.968696   6.0202436  8.133111   7.727367   6.6255336  6.4581194\n",
      " 10.180277   7.6745286  6.1010914  6.619504   6.4438605  6.419015\n",
      "  6.4452653  6.9487433  8.220022   7.73167    6.6396275  8.963205\n",
      "  6.4235106  7.0217023  7.38719    5.9925103  8.002436   8.236385\n",
      "  9.478189   9.030539  11.071399   7.831322   7.2492275  7.3275466\n",
      "  8.279707   7.405875 ]\n"
     ]
    }
   ],
   "source": [
    "# Evaluate the model\n",
    "\n",
    "mse = tf.keras.losses.mean_squared_error(test_data['rating'], predictions)\n",
    "\n",
    "mse_value = mse.numpy()\n",
    "\n",
    "print(\"Mean Squared Error:\", mse_value)"
   ]
  },
  {
   "cell_type": "code",
   "execution_count": null,
   "metadata": {},
   "outputs": [],
   "source": []
  }
 ],
 "metadata": {
  "kernelspec": {
   "display_name": "TfIntm",
   "language": "python",
   "name": "python3"
  },
  "language_info": {
   "codemirror_mode": {
    "name": "ipython",
    "version": 3
   },
   "file_extension": ".py",
   "mimetype": "text/x-python",
   "name": "python",
   "nbconvert_exporter": "python",
   "pygments_lexer": "ipython3",
   "version": "3.11.3"
  },
  "orig_nbformat": 4
 },
 "nbformat": 4,
 "nbformat_minor": 2
}
