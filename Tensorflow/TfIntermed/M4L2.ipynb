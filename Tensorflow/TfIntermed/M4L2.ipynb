{
 "cells": [
  {
   "attachments": {},
   "cell_type": "markdown",
   "metadata": {},
   "source": [
    "# Data Preparation for Recommender Systems "
   ]
  },
  {
   "attachments": {},
   "cell_type": "markdown",
   "metadata": {},
   "source": [
    "1. A typical Dataset \n",
    "2. Data Preprocessing \n",
    "3. Creating User-Item Interaction Matrix \n",
    "4. Converting the Data into TensorFlow-friendly Format \n"
   ]
  },
  {
   "cell_type": "code",
   "execution_count": 2,
   "metadata": {},
   "outputs": [],
   "source": [
    "import numpy as np\n",
    "\n",
    "import pandas as pd\n",
    "import tensorflow as tf\n",
    "from sklearn.model_selection import train_test_split\n",
    "\n",
    "from sklearn.preprocessing import LabelEncoder\n",
    "import scipy.sparse as sp\n",
    "\n"
   ]
  },
  {
   "attachments": {},
   "cell_type": "markdown",
   "metadata": {},
   "source": [
    "## A typical Dataset \n"
   ]
  },
  {
   "cell_type": "code",
   "execution_count": 3,
   "metadata": {},
   "outputs": [],
   "source": [
    "# Define the number of users and items\n",
    "\n",
    "num_users = 100\n",
    "\n",
    "num_items = 50\n",
    "\n",
    "# Generate random user-item interactions\n",
    "\n",
    "user_ids = np.random.randint(0, num_users, size=1000)\n",
    "\n",
    "item_ids = np.random.randint(0, num_items, size=1000)\n",
    "\n",
    "# Simulate ratings or preferences (e.g., on a scale of 1 to 5)\n",
    "\n",
    "ratings = np.random.randint(1, 6, size=1000)\n",
    "\n",
    "# Create a pandas DataFrame for the dataset\n",
    "\n",
    "dataset = pd.DataFrame({'user_id': user_ids, 'item_id': item_ids, 'rating': ratings})\n",
    "\n"
   ]
  },
  {
   "attachments": {},
   "cell_type": "markdown",
   "metadata": {},
   "source": [
    "## Data Preprocessing"
   ]
  },
  {
   "cell_type": "code",
   "execution_count": 4,
   "metadata": {},
   "outputs": [],
   "source": [
    "\n",
    "# Encoding categorical variables\n",
    "\n",
    "label_encoder = LabelEncoder()\n",
    "\n",
    "dataset['user_id'] = label_encoder.fit_transform(dataset['user_id'])\n",
    "\n",
    "dataset['item_id'] = label_encoder.fit_transform(dataset['item_id'])\n",
    "\n",
    "# Splitting the dataset into training and testing sets\n",
    "\n",
    "train_data, test_data = train_test_split(dataset, test_size=0.2, random_state=42)\n",
    "\n"
   ]
  },
  {
   "attachments": {},
   "cell_type": "markdown",
   "metadata": {},
   "source": [
    "## Creating User-Item Interaction Matrix"
   ]
  },
  {
   "cell_type": "code",
   "execution_count": 5,
   "metadata": {},
   "outputs": [],
   "source": [
    "# Creating the user-item interaction matrix\n",
    "\n",
    "user_item_matrix = sp.dok_matrix((num_users, num_items), dtype=np.float32)\n",
    "\n",
    "for row in train_data.itertuples():\n",
    "\n",
    "    user_item_matrix[row.user_id, row.item_id] = row.rating\n",
    "\n",
    "# Handling sparse matrices\n",
    "\n",
    "user_item_matrix = user_item_matrix.tocsr()\n",
    "\n"
   ]
  },
  {
   "cell_type": "code",
   "execution_count": 6,
   "metadata": {},
   "outputs": [
    {
     "data": {
      "text/plain": [
       "<100x50 sparse matrix of type '<class 'numpy.float32'>'\n",
       "\twith 747 stored elements in Compressed Sparse Row format>"
      ]
     },
     "execution_count": 6,
     "metadata": {},
     "output_type": "execute_result"
    }
   ],
   "source": [
    "user_item_matrix"
   ]
  },
  {
   "attachments": {},
   "cell_type": "markdown",
   "metadata": {},
   "source": [
    "## Converting the Data into TensorFlow-friendly Format"
   ]
  },
  {
   "cell_type": "code",
   "execution_count": 7,
   "metadata": {},
   "outputs": [],
   "source": [
    "# Get the row and column indices of non-zero elements\n",
    "\n",
    "rows, cols = user_item_matrix.nonzero()\n",
    "\n",
    "# Get the corresponding values\n",
    "\n",
    "values = user_item_matrix.data\n",
    "\n",
    "# Representing the user-item matrix as a TensorFlow SparseTensor\n",
    "\n",
    "sparse_tensor = tf.sparse.SparseTensor(indices=np.column_stack((rows, cols)),\n",
    "\n",
    "                                      values=values,\n",
    "\n",
    "                                    dense_shape=user_item_matrix.shape)"
   ]
  },
  {
   "cell_type": "code",
   "execution_count": null,
   "metadata": {},
   "outputs": [],
   "source": []
  }
 ],
 "metadata": {
  "kernelspec": {
   "display_name": "TfIntm",
   "language": "python",
   "name": "python3"
  },
  "language_info": {
   "codemirror_mode": {
    "name": "ipython",
    "version": 3
   },
   "file_extension": ".py",
   "mimetype": "text/x-python",
   "name": "python",
   "nbconvert_exporter": "python",
   "pygments_lexer": "ipython3",
   "version": "3.11.3"
  },
  "orig_nbformat": 4
 },
 "nbformat": 4,
 "nbformat_minor": 2
}
